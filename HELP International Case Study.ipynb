{
 "cells": [
  {
   "cell_type": "code",
   "execution_count": 58,
   "metadata": {},
   "outputs": [],
   "source": [
    "import numpy as np\n",
    "import pandas as pd\n",
    "import matplotlib.pyplot as plt\n",
    "import seaborn as sns\n",
    "import warnings\n",
    "warnings.filterwarnings(\"ignore\")\n",
    "\n",
    "from sklearn.neighbors import NearestNeighbors\n",
    "from random import sample\n",
    "from numpy.random import uniform\n",
    "import numpy as np\n",
    "from math import isnan\n",
    "\n",
    "import datetime as dt\n",
    "\n",
    "import sklearn\n",
    "from sklearn.preprocessing import StandardScaler\n",
    "from sklearn.cluster import KMeans\n",
    "from sklearn.metrics import silhouette_score\n",
    "\n",
    "from scipy.cluster.hierarchy import linkage\n",
    "from scipy.cluster.hierarchy import dendrogram\n",
    "from scipy.cluster.hierarchy import cut_tree"
   ]
  },
  {
   "cell_type": "markdown",
   "metadata": {},
   "source": [
    "# Reading and Visualising the data"
   ]
  },
  {
   "cell_type": "code",
   "execution_count": 59,
   "metadata": {},
   "outputs": [
    {
     "data": {
      "text/html": [
       "<div>\n",
       "<style scoped>\n",
       "    .dataframe tbody tr th:only-of-type {\n",
       "        vertical-align: middle;\n",
       "    }\n",
       "\n",
       "    .dataframe tbody tr th {\n",
       "        vertical-align: top;\n",
       "    }\n",
       "\n",
       "    .dataframe thead th {\n",
       "        text-align: right;\n",
       "    }\n",
       "</style>\n",
       "<table border=\"1\" class=\"dataframe\">\n",
       "  <thead>\n",
       "    <tr style=\"text-align: right;\">\n",
       "      <th></th>\n",
       "      <th>country</th>\n",
       "      <th>child_mort</th>\n",
       "      <th>exports</th>\n",
       "      <th>health</th>\n",
       "      <th>imports</th>\n",
       "      <th>income</th>\n",
       "      <th>inflation</th>\n",
       "      <th>life_expec</th>\n",
       "      <th>total_fer</th>\n",
       "      <th>gdpp</th>\n",
       "    </tr>\n",
       "  </thead>\n",
       "  <tbody>\n",
       "    <tr>\n",
       "      <th>0</th>\n",
       "      <td>Afghanistan</td>\n",
       "      <td>90.2</td>\n",
       "      <td>10.0</td>\n",
       "      <td>7.58</td>\n",
       "      <td>44.9</td>\n",
       "      <td>1610</td>\n",
       "      <td>9.44</td>\n",
       "      <td>56.2</td>\n",
       "      <td>5.82</td>\n",
       "      <td>553</td>\n",
       "    </tr>\n",
       "    <tr>\n",
       "      <th>1</th>\n",
       "      <td>Albania</td>\n",
       "      <td>16.6</td>\n",
       "      <td>28.0</td>\n",
       "      <td>6.55</td>\n",
       "      <td>48.6</td>\n",
       "      <td>9930</td>\n",
       "      <td>4.49</td>\n",
       "      <td>76.3</td>\n",
       "      <td>1.65</td>\n",
       "      <td>4090</td>\n",
       "    </tr>\n",
       "    <tr>\n",
       "      <th>2</th>\n",
       "      <td>Algeria</td>\n",
       "      <td>27.3</td>\n",
       "      <td>38.4</td>\n",
       "      <td>4.17</td>\n",
       "      <td>31.4</td>\n",
       "      <td>12900</td>\n",
       "      <td>16.10</td>\n",
       "      <td>76.5</td>\n",
       "      <td>2.89</td>\n",
       "      <td>4460</td>\n",
       "    </tr>\n",
       "    <tr>\n",
       "      <th>3</th>\n",
       "      <td>Angola</td>\n",
       "      <td>119.0</td>\n",
       "      <td>62.3</td>\n",
       "      <td>2.85</td>\n",
       "      <td>42.9</td>\n",
       "      <td>5900</td>\n",
       "      <td>22.40</td>\n",
       "      <td>60.1</td>\n",
       "      <td>6.16</td>\n",
       "      <td>3530</td>\n",
       "    </tr>\n",
       "    <tr>\n",
       "      <th>4</th>\n",
       "      <td>Antigua and Barbuda</td>\n",
       "      <td>10.3</td>\n",
       "      <td>45.5</td>\n",
       "      <td>6.03</td>\n",
       "      <td>58.9</td>\n",
       "      <td>19100</td>\n",
       "      <td>1.44</td>\n",
       "      <td>76.8</td>\n",
       "      <td>2.13</td>\n",
       "      <td>12200</td>\n",
       "    </tr>\n",
       "  </tbody>\n",
       "</table>\n",
       "</div>"
      ],
      "text/plain": [
       "               country  child_mort  exports  health  imports  income  \\\n",
       "0          Afghanistan        90.2     10.0    7.58     44.9    1610   \n",
       "1              Albania        16.6     28.0    6.55     48.6    9930   \n",
       "2              Algeria        27.3     38.4    4.17     31.4   12900   \n",
       "3               Angola       119.0     62.3    2.85     42.9    5900   \n",
       "4  Antigua and Barbuda        10.3     45.5    6.03     58.9   19100   \n",
       "\n",
       "   inflation  life_expec  total_fer   gdpp  \n",
       "0       9.44        56.2       5.82    553  \n",
       "1       4.49        76.3       1.65   4090  \n",
       "2      16.10        76.5       2.89   4460  \n",
       "3      22.40        60.1       6.16   3530  \n",
       "4       1.44        76.8       2.13  12200  "
      ]
     },
     "execution_count": 59,
     "metadata": {},
     "output_type": "execute_result"
    }
   ],
   "source": [
    "country_df = pd.read_csv(\"Country-data.csv\", sep=\",\", encoding=\"ISO-8859-1\", header=0)\n",
    "country_df.head()"
   ]
  },
  {
   "cell_type": "code",
   "execution_count": 60,
   "metadata": {},
   "outputs": [
    {
     "name": "stdout",
     "output_type": "stream",
     "text": [
      "<class 'pandas.core.frame.DataFrame'>\n",
      "RangeIndex: 167 entries, 0 to 166\n",
      "Data columns (total 10 columns):\n",
      " #   Column      Non-Null Count  Dtype  \n",
      "---  ------      --------------  -----  \n",
      " 0   country     167 non-null    object \n",
      " 1   child_mort  167 non-null    float64\n",
      " 2   exports     167 non-null    float64\n",
      " 3   health      167 non-null    float64\n",
      " 4   imports     167 non-null    float64\n",
      " 5   income      167 non-null    int64  \n",
      " 6   inflation   167 non-null    float64\n",
      " 7   life_expec  167 non-null    float64\n",
      " 8   total_fer   167 non-null    float64\n",
      " 9   gdpp        167 non-null    int64  \n",
      "dtypes: float64(7), int64(2), object(1)\n",
      "memory usage: 13.2+ KB\n"
     ]
    }
   ],
   "source": [
    "country_df.info()"
   ]
  },
  {
   "cell_type": "markdown",
   "metadata": {},
   "source": [
    "No conversion of data types is needed since all columns have appropriate data types as is."
   ]
  },
  {
   "cell_type": "code",
   "execution_count": 61,
   "metadata": {},
   "outputs": [
    {
     "data": {
      "text/html": [
       "<div>\n",
       "<style scoped>\n",
       "    .dataframe tbody tr th:only-of-type {\n",
       "        vertical-align: middle;\n",
       "    }\n",
       "\n",
       "    .dataframe tbody tr th {\n",
       "        vertical-align: top;\n",
       "    }\n",
       "\n",
       "    .dataframe thead th {\n",
       "        text-align: right;\n",
       "    }\n",
       "</style>\n",
       "<table border=\"1\" class=\"dataframe\">\n",
       "  <thead>\n",
       "    <tr style=\"text-align: right;\">\n",
       "      <th></th>\n",
       "      <th>child_mort</th>\n",
       "      <th>exports</th>\n",
       "      <th>health</th>\n",
       "      <th>imports</th>\n",
       "      <th>income</th>\n",
       "      <th>inflation</th>\n",
       "      <th>life_expec</th>\n",
       "      <th>total_fer</th>\n",
       "      <th>gdpp</th>\n",
       "    </tr>\n",
       "  </thead>\n",
       "  <tbody>\n",
       "    <tr>\n",
       "      <th>count</th>\n",
       "      <td>167.000000</td>\n",
       "      <td>167.000000</td>\n",
       "      <td>167.000000</td>\n",
       "      <td>167.000000</td>\n",
       "      <td>167.000000</td>\n",
       "      <td>167.000000</td>\n",
       "      <td>167.000000</td>\n",
       "      <td>167.000000</td>\n",
       "      <td>167.000000</td>\n",
       "    </tr>\n",
       "    <tr>\n",
       "      <th>mean</th>\n",
       "      <td>38.270060</td>\n",
       "      <td>41.108976</td>\n",
       "      <td>6.815689</td>\n",
       "      <td>46.890215</td>\n",
       "      <td>17144.688623</td>\n",
       "      <td>7.781832</td>\n",
       "      <td>70.555689</td>\n",
       "      <td>2.947964</td>\n",
       "      <td>12964.155689</td>\n",
       "    </tr>\n",
       "    <tr>\n",
       "      <th>std</th>\n",
       "      <td>40.328931</td>\n",
       "      <td>27.412010</td>\n",
       "      <td>2.746837</td>\n",
       "      <td>24.209589</td>\n",
       "      <td>19278.067698</td>\n",
       "      <td>10.570704</td>\n",
       "      <td>8.893172</td>\n",
       "      <td>1.513848</td>\n",
       "      <td>18328.704809</td>\n",
       "    </tr>\n",
       "    <tr>\n",
       "      <th>min</th>\n",
       "      <td>2.600000</td>\n",
       "      <td>0.109000</td>\n",
       "      <td>1.810000</td>\n",
       "      <td>0.065900</td>\n",
       "      <td>609.000000</td>\n",
       "      <td>-4.210000</td>\n",
       "      <td>32.100000</td>\n",
       "      <td>1.150000</td>\n",
       "      <td>231.000000</td>\n",
       "    </tr>\n",
       "    <tr>\n",
       "      <th>25%</th>\n",
       "      <td>8.250000</td>\n",
       "      <td>23.800000</td>\n",
       "      <td>4.920000</td>\n",
       "      <td>30.200000</td>\n",
       "      <td>3355.000000</td>\n",
       "      <td>1.810000</td>\n",
       "      <td>65.300000</td>\n",
       "      <td>1.795000</td>\n",
       "      <td>1330.000000</td>\n",
       "    </tr>\n",
       "    <tr>\n",
       "      <th>50%</th>\n",
       "      <td>19.300000</td>\n",
       "      <td>35.000000</td>\n",
       "      <td>6.320000</td>\n",
       "      <td>43.300000</td>\n",
       "      <td>9960.000000</td>\n",
       "      <td>5.390000</td>\n",
       "      <td>73.100000</td>\n",
       "      <td>2.410000</td>\n",
       "      <td>4660.000000</td>\n",
       "    </tr>\n",
       "    <tr>\n",
       "      <th>75%</th>\n",
       "      <td>62.100000</td>\n",
       "      <td>51.350000</td>\n",
       "      <td>8.600000</td>\n",
       "      <td>58.750000</td>\n",
       "      <td>22800.000000</td>\n",
       "      <td>10.750000</td>\n",
       "      <td>76.800000</td>\n",
       "      <td>3.880000</td>\n",
       "      <td>14050.000000</td>\n",
       "    </tr>\n",
       "    <tr>\n",
       "      <th>max</th>\n",
       "      <td>208.000000</td>\n",
       "      <td>200.000000</td>\n",
       "      <td>17.900000</td>\n",
       "      <td>174.000000</td>\n",
       "      <td>125000.000000</td>\n",
       "      <td>104.000000</td>\n",
       "      <td>82.800000</td>\n",
       "      <td>7.490000</td>\n",
       "      <td>105000.000000</td>\n",
       "    </tr>\n",
       "  </tbody>\n",
       "</table>\n",
       "</div>"
      ],
      "text/plain": [
       "       child_mort     exports      health     imports         income  \\\n",
       "count  167.000000  167.000000  167.000000  167.000000     167.000000   \n",
       "mean    38.270060   41.108976    6.815689   46.890215   17144.688623   \n",
       "std     40.328931   27.412010    2.746837   24.209589   19278.067698   \n",
       "min      2.600000    0.109000    1.810000    0.065900     609.000000   \n",
       "25%      8.250000   23.800000    4.920000   30.200000    3355.000000   \n",
       "50%     19.300000   35.000000    6.320000   43.300000    9960.000000   \n",
       "75%     62.100000   51.350000    8.600000   58.750000   22800.000000   \n",
       "max    208.000000  200.000000   17.900000  174.000000  125000.000000   \n",
       "\n",
       "        inflation  life_expec   total_fer           gdpp  \n",
       "count  167.000000  167.000000  167.000000     167.000000  \n",
       "mean     7.781832   70.555689    2.947964   12964.155689  \n",
       "std     10.570704    8.893172    1.513848   18328.704809  \n",
       "min     -4.210000   32.100000    1.150000     231.000000  \n",
       "25%      1.810000   65.300000    1.795000    1330.000000  \n",
       "50%      5.390000   73.100000    2.410000    4660.000000  \n",
       "75%     10.750000   76.800000    3.880000   14050.000000  \n",
       "max    104.000000   82.800000    7.490000  105000.000000  "
      ]
     },
     "execution_count": 61,
     "metadata": {},
     "output_type": "execute_result"
    }
   ],
   "source": [
    " country_df.describe()"
   ]
  },
  {
   "cell_type": "code",
   "execution_count": 62,
   "metadata": {},
   "outputs": [
    {
     "name": "stdout",
     "output_type": "stream",
     "text": [
      "<class 'pandas.core.frame.DataFrame'>\n",
      "RangeIndex: 167 entries, 0 to 166\n",
      "Data columns (total 10 columns):\n",
      " #   Column      Non-Null Count  Dtype  \n",
      "---  ------      --------------  -----  \n",
      " 0   country     167 non-null    object \n",
      " 1   child_mort  167 non-null    float64\n",
      " 2   exports     167 non-null    float64\n",
      " 3   health      167 non-null    float64\n",
      " 4   imports     167 non-null    float64\n",
      " 5   income      167 non-null    int64  \n",
      " 6   inflation   167 non-null    float64\n",
      " 7   life_expec  167 non-null    float64\n",
      " 8   total_fer   167 non-null    float64\n",
      " 9   gdpp        167 non-null    int64  \n",
      "dtypes: float64(7), int64(2), object(1)\n",
      "memory usage: 13.2+ KB\n"
     ]
    }
   ],
   "source": [
    "country_df.info()"
   ]
  },
  {
   "cell_type": "code",
   "execution_count": 63,
   "metadata": {},
   "outputs": [
    {
     "data": {
      "text/plain": [
       "(167, 10)"
      ]
     },
     "execution_count": 63,
     "metadata": {},
     "output_type": "execute_result"
    }
   ],
   "source": [
    "# Shape of the dataset\n",
    "\n",
    "country_df.shape"
   ]
  },
  {
   "cell_type": "markdown",
   "metadata": {},
   "source": [
    "# Cleaning the data"
   ]
  },
  {
   "cell_type": "code",
   "execution_count": 64,
   "metadata": {},
   "outputs": [
    {
     "data": {
      "text/plain": [
       "country       0.0\n",
       "child_mort    0.0\n",
       "exports       0.0\n",
       "health        0.0\n",
       "imports       0.0\n",
       "income        0.0\n",
       "inflation     0.0\n",
       "life_expec    0.0\n",
       "total_fer     0.0\n",
       "gdpp          0.0\n",
       "dtype: float64"
      ]
     },
     "execution_count": 64,
     "metadata": {},
     "output_type": "execute_result"
    }
   ],
   "source": [
    "# Checking missing values\n",
    "\n",
    "round(100*(country_df.isnull().sum())/len(country_df), 2)"
   ]
  },
  {
   "cell_type": "markdown",
   "metadata": {},
   "source": [
    "There are no missing values present in the data set, hence no cleaning or imputing of the data is required."
   ]
  },
  {
   "cell_type": "markdown",
   "metadata": {},
   "source": [
    "# Preparing the data for clustering"
   ]
  },
  {
   "cell_type": "code",
   "execution_count": 65,
   "metadata": {},
   "outputs": [],
   "source": [
    "# Since columns 'exports','imports', and 'health' are given as percentages of the column 'gdpp', converting these columns to their absolute values.\n",
    "\n",
    "country_df['exports'] = country_df['exports']*country_df['gdpp']/100\n",
    "country_df['imports'] = country_df['imports']*country_df['gdpp']/100\n",
    "country_df['health'] = country_df['health']*country_df['gdpp']/100"
   ]
  },
  {
   "cell_type": "markdown",
   "metadata": {},
   "source": [
    "#  Exploratory Data Analysis"
   ]
  },
  {
   "cell_type": "code",
   "execution_count": 66,
   "metadata": {},
   "outputs": [
    {
     "data": {
      "image/png": "[encoded data removed]",
      "text/plain": [
       "<Figure size 1800x2520 with 9 Axes>"
      ]
     },
     "metadata": {
      "needs_background": "light"
     },
     "output_type": "display_data"
    }
   ],
   "source": [
    "plt.figure(figsize = (25,35))\n",
    "\n",
    "# Child Mortality Rate : Death of children under 5 years of age per 1000 live births\n",
    "plt.subplot(3,3,1)\n",
    "top10_child_mort = country_df[['country','child_mort']].sort_values('child_mort', ascending = False).head(10)\n",
    "plt1 = sns.barplot(x='country', y='child_mort', data= top10_child_mort)\n",
    "plt1.set_xticklabels(plt1.get_xticklabels(), rotation=90)\n",
    "\n",
    "# Fertility Rate: The number of children that would be born to each woman if the current age-fertility rates remain the same\n",
    "plt.subplot(3,3,2)\n",
    "top10_total_fer = country_df[['country','total_fer']].sort_values('total_fer', ascending = False).head(10)\n",
    "plt1 = sns.barplot(x='country', y='total_fer', data= top10_total_fer)\n",
    "plt1.set_xticklabels(plt1.get_xticklabels(), rotation=90)\n",
    "\n",
    "# Life Expectancy: The average number of years a new born child would live if the current mortality patterns are to remain same\n",
    "plt.subplot(3,3,3)\n",
    "bottom10_life_expec = country_df[['country','life_expec']].sort_values('life_expec', ascending = True).head(10)\n",
    "plt1 = sns.barplot(x='country', y='life_expec', data= bottom10_life_expec)\n",
    "plt1.set_xticklabels(plt1.get_xticklabels(), rotation=90)\n",
    "\n",
    "# Health :Total health spending as %age of Total GDP.\n",
    "plt.subplot(3,3,4)\n",
    "bottom10_health = country_df[['country','health']].sort_values('health', ascending = True).head(10)\n",
    "plt1 = sns.barplot(x='country', y='health', data= bottom10_health)\n",
    "plt1.set_xticklabels(plt1.get_xticklabels(), rotation=90)\n",
    "\n",
    "# The GDP per capita : Calculated as the Total GDP divided by the total population.\n",
    "plt.subplot(3,3,5)\n",
    "bottom10_gdpp = country_df[['country','gdpp']].sort_values('gdpp', ascending = True).head(10)\n",
    "plt1 = sns.barplot(x='country', y='gdpp', data= bottom10_gdpp)\n",
    "plt1.set_xticklabels(plt1.get_xticklabels(), rotation=90)\n",
    "\n",
    "# Per capita Income : Net income per person\n",
    "plt.subplot(3,3,6)\n",
    "bottom10_income = country_df[['country','income']].sort_values('income', ascending = True).head(10)\n",
    "plt1 = sns.barplot(x='country', y='income', data= bottom10_income)\n",
    "plt1.set_xticklabels(plt1.get_xticklabels(), rotation=90)\n",
    "\n",
    "# Inflation: The measurement of the annual growth rate of the Total GDP\n",
    "plt.subplot(3,3,7)\n",
    "top10_inflation = country_df[['country','inflation']].sort_values('inflation', ascending = False).head(10)\n",
    "plt1 = sns.barplot(x='country', y='inflation', data= top10_inflation)\n",
    "plt1.set_xticklabels(plt1.get_xticklabels(), rotation=90)\n",
    "\n",
    "# Exports: Exports of goods and services. Given as %age of the Total GDP\n",
    "plt.subplot(3,3,8)\n",
    "bottom10_exports = country_df[['country','exports']].sort_values('exports', ascending = True).head(10)\n",
    "plt1 = sns.barplot(x='country', y='exports', data= bottom10_exports)\n",
    "plt1.set_xticklabels(plt1.get_xticklabels(), rotation=90)\n",
    "\n",
    "# Imports: Imports of goods and services. Given as %age of the Total GDP\n",
    "plt.subplot(3,3,9)\n",
    "bottom10_imports = country_df[['country','imports']].sort_values('imports', ascending = True).head(10)\n",
    "plt1 = sns.barplot(x='country', y='imports', data= bottom10_imports)\n",
    "plt1.set_xticklabels(plt1.get_xticklabels(), rotation=90)\n",
    "\n",
    "plt.show()"
   ]
  },
  {
   "cell_type": "code",
   "execution_count": 67,
   "metadata": {},
   "outputs": [
    {
     "data": {
      "image/png": "[encoded data removed]",
      "text/plain": [
       "<Figure size 1080x720 with 2 Axes>"
      ]
     },
     "metadata": {
      "needs_background": "light"
     },
     "output_type": "display_data"
    }
   ],
   "source": [
    "# Checking correlation coefficients\n",
    "\n",
    "plt.figure(figsize = (15,10))   \n",
    "sns.heatmap(country_df.corr(), annot = True, cmap=\"YlGnBu\")\n",
    "plt.show()"
   ]
  },
  {
   "cell_type": "markdown",
   "metadata": {},
   "source": [
    "- child_mortality and life_expentency have a correlation coefficient of -0.89\n",
    "- exports and health have a correlation coefficient of 0.82\n",
    "- health and imports have a correlation coefficient of 0.82\n",
    "- health and gdpp have a correlation coefficient of 0.78\n",
    "- income and gdpp have a correlation coefficient of 0.9\n",
    "- imports and exports are highly correlated with correlation of 0.75\n",
    "- life_expentency and total_fertility have a correlation coefficient of -0.76\n",
    "- child_mortality and total_fertility have a correlation coefficient of 0.85"
   ]
  },
  {
   "cell_type": "markdown",
   "metadata": {},
   "source": [
    "# Outlier Treatment"
   ]
  },
  {
   "cell_type": "markdown",
   "metadata": {},
   "source": [
    "#### Checking columns for presence of outliers:"
   ]
  },
  {
   "cell_type": "code",
   "execution_count": 68,
   "metadata": {},
   "outputs": [
    {
     "data": {
      "text/plain": [
       "0.50     19.30\n",
       "0.70     50.00\n",
       "0.90    100.22\n",
       "0.95    116.00\n",
       "0.97    130.14\n",
       "0.99    153.40\n",
       "1.00    208.00\n",
       "Name: child_mort, dtype: float64"
      ]
     },
     "execution_count": 68,
     "metadata": {},
     "output_type": "execute_result"
    }
   ],
   "source": [
    "country_df.child_mort.quantile([0.5, 0.7,0.9, 0.95,0.97, 0.99, 1.0])"
   ]
  },
  {
   "cell_type": "code",
   "execution_count": 69,
   "metadata": {},
   "outputs": [
    {
     "data": {
      "text/plain": [
       "0.50      1777.44\n",
       "0.70      5517.88\n",
       "0.90     17760.60\n",
       "0.95     31385.10\n",
       "0.99     64794.26\n",
       "1.00    183750.00\n",
       "Name: exports, dtype: float64"
      ]
     },
     "execution_count": 69,
     "metadata": {},
     "output_type": "execute_result"
    }
   ],
   "source": [
    "country_df.exports.quantile([0.5, 0.7,0.9, 0.95, 0.99, 1.0])"
   ]
  },
  {
   "cell_type": "code",
   "execution_count": 70,
   "metadata": {},
   "outputs": [
    {
     "data": {
      "text/plain": [
       "0.50     321.8860\n",
       "0.70     757.0880\n",
       "0.90    3825.4160\n",
       "0.95    4966.7010\n",
       "0.99    8410.3304\n",
       "1.00    8663.6000\n",
       "Name: health, dtype: float64"
      ]
     },
     "execution_count": 70,
     "metadata": {},
     "output_type": "execute_result"
    }
   ],
   "source": [
    "country_df.health.quantile([0.5, 0.7,0.9, 0.95, 0.99, 1.0])"
   ]
  },
  {
   "cell_type": "code",
   "execution_count": 71,
   "metadata": {},
   "outputs": [
    {
     "data": {
      "text/plain": [
       "0.50      2045.580\n",
       "0.70      5310.424\n",
       "0.90     15034.280\n",
       "0.95     24241.560\n",
       "0.99     55371.390\n",
       "1.00    149100.000\n",
       "Name: imports, dtype: float64"
      ]
     },
     "execution_count": 71,
     "metadata": {},
     "output_type": "execute_result"
    }
   ],
   "source": [
    "country_df.imports.quantile([0.5, 0.7,0.9, 0.95, 0.99, 1.0])"
   ]
  },
  {
   "cell_type": "code",
   "execution_count": 72,
   "metadata": {},
   "outputs": [
    {
     "data": {
      "text/plain": [
       "0.50      9960.0\n",
       "0.70     19540.0\n",
       "0.90     41220.0\n",
       "0.95     48290.0\n",
       "0.96     56256.0\n",
       "0.97     62496.0\n",
       "0.98     74208.0\n",
       "0.99     84374.0\n",
       "1.00    125000.0\n",
       "Name: income, dtype: float64"
      ]
     },
     "execution_count": 72,
     "metadata": {},
     "output_type": "execute_result"
    }
   ],
   "source": [
    "country_df.income.quantile([0.5, 0.7,0.9, 0.95,0.96,0.97,0.98, 0.99, 1.0])"
   ]
  },
  {
   "cell_type": "code",
   "execution_count": 73,
   "metadata": {},
   "outputs": [
    {
     "data": {
      "text/plain": [
       "0.50      4660.0\n",
       "0.70     11920.0\n",
       "0.90     41840.0\n",
       "0.95     48610.0\n",
       "0.97     52218.0\n",
       "0.99     79088.0\n",
       "1.00    105000.0\n",
       "Name: gdpp, dtype: float64"
      ]
     },
     "execution_count": 73,
     "metadata": {},
     "output_type": "execute_result"
    }
   ],
   "source": [
    "country_df.gdpp.quantile([0.5, 0.7,0.9, 0.95,0.97, 0.99, 1.0])"
   ]
  },
  {
   "cell_type": "code",
   "execution_count": 74,
   "metadata": {},
   "outputs": [
    {
     "data": {
      "text/plain": [
       "0.50      5.390\n",
       "0.70      8.964\n",
       "0.90     16.640\n",
       "0.95     20.870\n",
       "0.99     41.478\n",
       "1.00    104.000\n",
       "Name: inflation, dtype: float64"
      ]
     },
     "execution_count": 74,
     "metadata": {},
     "output_type": "execute_result"
    }
   ],
   "source": [
    "country_df.inflation.quantile([0.5, 0.7,0.9, 0.95, 0.99, 1.0])"
   ]
  },
  {
   "cell_type": "code",
   "execution_count": 75,
   "metadata": {},
   "outputs": [
    {
     "data": {
      "text/plain": [
       "0.50    73.10\n",
       "0.70    76.40\n",
       "0.90    80.40\n",
       "0.95    81.40\n",
       "0.99    82.37\n",
       "1.00    82.80\n",
       "Name: life_expec, dtype: float64"
      ]
     },
     "execution_count": 75,
     "metadata": {},
     "output_type": "execute_result"
    }
   ],
   "source": [
    "country_df.life_expec.quantile([0.5, 0.7,0.9, 0.95, 0.99, 1.0])"
   ]
  },
  {
   "cell_type": "code",
   "execution_count": 76,
   "metadata": {},
   "outputs": [
    {
     "data": {
      "text/plain": [
       "0.50    2.4100\n",
       "0.70    3.3400\n",
       "0.90    5.3220\n",
       "0.95    5.8610\n",
       "0.99    6.5636\n",
       "1.00    7.4900\n",
       "Name: total_fer, dtype: float64"
      ]
     },
     "execution_count": 76,
     "metadata": {},
     "output_type": "execute_result"
    }
   ],
   "source": [
    "country_df.total_fer.quantile([0.5, 0.7,0.9, 0.95, 0.99, 1.0])\n"
   ]
  },
  {
   "cell_type": "markdown",
   "metadata": {},
   "source": [
    "#### Columns 'child_mort', 'exports', 'imports', 'income', 'gdpp', and 'inflation' have outliers present, and require treatment."
   ]
  },
  {
   "cell_type": "code",
   "execution_count": 77,
   "metadata": {},
   "outputs": [],
   "source": [
    "# Outlier treatment for child_mort:\n",
    "Q1 = country_df['child_mort'].quantile(0.01)\n",
    "Q2 = country_df['child_mort'].quantile(0.99)\n",
    "IQR = Q2-Q1\n",
    "country_df = country_df[(country_df.child_mort >= Q1 - 1.5*IQR) & (country_df.child_mort <= Q2 + 1.5*IQR)]\n",
    "\n",
    "\n",
    "# Outlier treatment for income :\n",
    "Q1 = country_df['income'].quantile(0.01)\n",
    "Q2 = country_df['income'].quantile(0.99)\n",
    "IQR = Q2-Q1\n",
    "country_df = country_df[(country_df.income >= Q1 - 1.5*IQR) & (country_df.income <= Q2 + 1.5*IQR)]\n",
    "\n",
    "# Outlier treatment for inflation:\n",
    "Q1 = country_df['inflation'].quantile(0.01)\n",
    "Q2 = country_df['inflation'].quantile(0.99)\n",
    "IQR = Q2-Q1\n",
    "country_df = country_df[(country_df.inflation >= Q1 - 1.5*IQR) & (country_df.inflation <= Q2 + 1.5*IQR)]\n",
    "\n",
    "# Outlier treatment for gdpp:\n",
    "Q1 = country_df['gdpp'].quantile(0.01)\n",
    "Q2 = country_df['gdpp'].quantile(0.99)\n",
    "IQR = Q2-Q1\n",
    "country_df = country_df[(country_df.gdpp >= Q1 - 1.5*IQR) & (country_df.gdpp <= Q2 + 1.5*IQR)]\n",
    "\n",
    "# Outlier treatment for imports:\n",
    "Q1 = country_df['imports'].quantile(0.01)\n",
    "Q2 = country_df['imports'].quantile(0.99)\n",
    "IQR = Q2-Q1\n",
    "country_df = country_df[(country_df.imports >= Q1 - 1.5*IQR) & (country_df.imports <= Q2 + 1.5*IQR)]\n",
    "\n",
    "# Outlier treatment for exports:\n",
    "Q1 = country_df['exports'].quantile(0.01)\n",
    "Q2 = country_df['exports'].quantile(0.99)\n",
    "IQR = Q2-Q1\n",
    "country_df = country_df[(country_df.exports >= Q1 - 1.5*IQR) & (country_df.exports <= Q2 + 1.5*IQR)]"
   ]
  },
  {
   "cell_type": "code",
   "execution_count": 78,
   "metadata": {},
   "outputs": [
    {
     "data": {
      "image/png": "[encoded data removed]",
      "text/plain": [
       "<Figure size 1440x1080 with 9 Axes>"
      ]
     },
     "metadata": {
      "needs_background": "light"
     },
     "output_type": "display_data"
    }
   ],
   "source": [
    "# Plots after outlier treatment\n",
    "\n",
    "plt.figure(figsize=(20,15))\n",
    "features = country_df.columns[1:]\n",
    "for i in enumerate(features):\n",
    "    plt.subplot(3,3,i[0]+1)\n",
    "    sns.boxplot(country_df[i[1]])"
   ]
  },
  {
   "cell_type": "code",
   "execution_count": 79,
   "metadata": {},
   "outputs": [],
   "source": [
    "# Dropping 'country' as final dataframe will only contain data columns\n",
    "\n",
    "df_country_drop = country_df.copy()\n",
    "country = df_country_drop.pop('country')"
   ]
  },
  {
   "cell_type": "code",
   "execution_count": 80,
   "metadata": {},
   "outputs": [
    {
     "data": {
      "text/html": [
       "<div>\n",
       "<style scoped>\n",
       "    .dataframe tbody tr th:only-of-type {\n",
       "        vertical-align: middle;\n",
       "    }\n",
       "\n",
       "    .dataframe tbody tr th {\n",
       "        vertical-align: top;\n",
       "    }\n",
       "\n",
       "    .dataframe thead th {\n",
       "        text-align: right;\n",
       "    }\n",
       "</style>\n",
       "<table border=\"1\" class=\"dataframe\">\n",
       "  <thead>\n",
       "    <tr style=\"text-align: right;\">\n",
       "      <th></th>\n",
       "      <th>child_mort</th>\n",
       "      <th>exports</th>\n",
       "      <th>health</th>\n",
       "      <th>imports</th>\n",
       "      <th>income</th>\n",
       "      <th>inflation</th>\n",
       "      <th>life_expec</th>\n",
       "      <th>total_fer</th>\n",
       "      <th>gdpp</th>\n",
       "    </tr>\n",
       "  </thead>\n",
       "  <tbody>\n",
       "    <tr>\n",
       "      <th>0</th>\n",
       "      <td>90.2</td>\n",
       "      <td>55.30</td>\n",
       "      <td>41.9174</td>\n",
       "      <td>248.297</td>\n",
       "      <td>1610</td>\n",
       "      <td>9.44</td>\n",
       "      <td>56.2</td>\n",
       "      <td>5.82</td>\n",
       "      <td>553</td>\n",
       "    </tr>\n",
       "    <tr>\n",
       "      <th>1</th>\n",
       "      <td>16.6</td>\n",
       "      <td>1145.20</td>\n",
       "      <td>267.8950</td>\n",
       "      <td>1987.740</td>\n",
       "      <td>9930</td>\n",
       "      <td>4.49</td>\n",
       "      <td>76.3</td>\n",
       "      <td>1.65</td>\n",
       "      <td>4090</td>\n",
       "    </tr>\n",
       "    <tr>\n",
       "      <th>2</th>\n",
       "      <td>27.3</td>\n",
       "      <td>1712.64</td>\n",
       "      <td>185.9820</td>\n",
       "      <td>1400.440</td>\n",
       "      <td>12900</td>\n",
       "      <td>16.10</td>\n",
       "      <td>76.5</td>\n",
       "      <td>2.89</td>\n",
       "      <td>4460</td>\n",
       "    </tr>\n",
       "    <tr>\n",
       "      <th>3</th>\n",
       "      <td>119.0</td>\n",
       "      <td>2199.19</td>\n",
       "      <td>100.6050</td>\n",
       "      <td>1514.370</td>\n",
       "      <td>5900</td>\n",
       "      <td>22.40</td>\n",
       "      <td>60.1</td>\n",
       "      <td>6.16</td>\n",
       "      <td>3530</td>\n",
       "    </tr>\n",
       "    <tr>\n",
       "      <th>4</th>\n",
       "      <td>10.3</td>\n",
       "      <td>5551.00</td>\n",
       "      <td>735.6600</td>\n",
       "      <td>7185.800</td>\n",
       "      <td>19100</td>\n",
       "      <td>1.44</td>\n",
       "      <td>76.8</td>\n",
       "      <td>2.13</td>\n",
       "      <td>12200</td>\n",
       "    </tr>\n",
       "  </tbody>\n",
       "</table>\n",
       "</div>"
      ],
      "text/plain": [
       "   child_mort  exports    health   imports  income  inflation  life_expec  \\\n",
       "0        90.2    55.30   41.9174   248.297    1610       9.44        56.2   \n",
       "1        16.6  1145.20  267.8950  1987.740    9930       4.49        76.3   \n",
       "2        27.3  1712.64  185.9820  1400.440   12900      16.10        76.5   \n",
       "3       119.0  2199.19  100.6050  1514.370    5900      22.40        60.1   \n",
       "4        10.3  5551.00  735.6600  7185.800   19100       1.44        76.8   \n",
       "\n",
       "   total_fer   gdpp  \n",
       "0       5.82    553  \n",
       "1       1.65   4090  \n",
       "2       2.89   4460  \n",
       "3       6.16   3530  \n",
       "4       2.13  12200  "
      ]
     },
     "execution_count": 80,
     "metadata": {},
     "output_type": "execute_result"
    }
   ],
   "source": [
    "df_country_drop.head()"
   ]
  },
  {
   "cell_type": "markdown",
   "metadata": {},
   "source": [
    "# Hopkins Check"
   ]
  },
  {
   "cell_type": "markdown",
   "metadata": {},
   "source": [
    "#### Hopkins Statistic will give a value indicating if the data is good for clustering or not"
   ]
  },
  {
   "cell_type": "code",
   "execution_count": 81,
   "metadata": {},
   "outputs": [],
   "source": [
    "# Function to calculate Hopkins Statistic:\n",
    "\n",
    "def hopkins(X):\n",
    "    d = X.shape[1]\n",
    "    #d = len(vars) # columns\n",
    "    n = len(X) # rows\n",
    "    m = int(0.1 * n) \n",
    "    nbrs = NearestNeighbors(n_neighbors=1).fit(X.values)\n",
    " \n",
    "    rand_X = sample(range(0, n, 1), m)\n",
    " \n",
    "    ujd = []\n",
    "    wjd = []\n",
    "    for j in range(0, m):\n",
    "        u_dist, _ = nbrs.kneighbors(uniform(np.amin(X,axis=0),np.amax(X,axis=0),d).reshape(1, -1), 2, return_distance=True)\n",
    "        ujd.append(u_dist[0][1])\n",
    "        w_dist, _ = nbrs.kneighbors(X.iloc[rand_X[j]].values.reshape(1, -1), 2, return_distance=True)\n",
    "        wjd.append(w_dist[0][1])\n",
    " \n",
    "    H = sum(ujd) / (sum(ujd) + sum(wjd))\n",
    "    if isnan(H):\n",
    "        print(ujd, wjd)\n",
    "        H = 0\n",
    " \n",
    "    return H"
   ]
  },
  {
   "cell_type": "code",
   "execution_count": 82,
   "metadata": {},
   "outputs": [
    {
     "data": {
      "text/plain": [
       "0.9580188302475705"
      ]
     },
     "execution_count": 82,
     "metadata": {},
     "output_type": "execute_result"
    }
   ],
   "source": [
    "# Checking value of Hopkins Statistic for the given dataset:\n",
    "\n",
    "hopkins(df_country_drop)\n"
   ]
  },
  {
   "cell_type": "markdown",
   "metadata": {},
   "source": [
    "#### Value of Hopkins Statistic comes out to be 0.958 for the given dataset, thus indicating a very high clustering tendency!"
   ]
  },
  {
   "cell_type": "markdown",
   "metadata": {},
   "source": [
    "# Rescaling Features"
   ]
  },
  {
   "cell_type": "code",
   "execution_count": 83,
   "metadata": {},
   "outputs": [
    {
     "data": {
      "text/html": [
       "<div>\n",
       "<style scoped>\n",
       "    .dataframe tbody tr th:only-of-type {\n",
       "        vertical-align: middle;\n",
       "    }\n",
       "\n",
       "    .dataframe tbody tr th {\n",
       "        vertical-align: top;\n",
       "    }\n",
       "\n",
       "    .dataframe thead th {\n",
       "        text-align: right;\n",
       "    }\n",
       "</style>\n",
       "<table border=\"1\" class=\"dataframe\">\n",
       "  <thead>\n",
       "    <tr style=\"text-align: right;\">\n",
       "      <th></th>\n",
       "      <th>child_mort</th>\n",
       "      <th>exports</th>\n",
       "      <th>health</th>\n",
       "      <th>imports</th>\n",
       "      <th>income</th>\n",
       "      <th>inflation</th>\n",
       "      <th>life_expec</th>\n",
       "      <th>total_fer</th>\n",
       "      <th>gdpp</th>\n",
       "    </tr>\n",
       "  </thead>\n",
       "  <tbody>\n",
       "    <tr>\n",
       "      <th>0</th>\n",
       "      <td>1.285378</td>\n",
       "      <td>-0.543227</td>\n",
       "      <td>-0.566958</td>\n",
       "      <td>-0.567422</td>\n",
       "      <td>-0.820598</td>\n",
       "      <td>0.154565</td>\n",
       "      <td>-1.614114</td>\n",
       "      <td>1.896292</td>\n",
       "      <td>-0.702817</td>\n",
       "    </tr>\n",
       "    <tr>\n",
       "      <th>1</th>\n",
       "      <td>-0.543908</td>\n",
       "      <td>-0.449295</td>\n",
       "      <td>-0.435152</td>\n",
       "      <td>-0.387364</td>\n",
       "      <td>-0.368021</td>\n",
       "      <td>-0.313930</td>\n",
       "      <td>0.656110</td>\n",
       "      <td>-0.864627</td>\n",
       "      <td>-0.493159</td>\n",
       "    </tr>\n",
       "    <tr>\n",
       "      <th>2</th>\n",
       "      <td>-0.277965</td>\n",
       "      <td>-0.400391</td>\n",
       "      <td>-0.482929</td>\n",
       "      <td>-0.448158</td>\n",
       "      <td>-0.206464</td>\n",
       "      <td>0.784905</td>\n",
       "      <td>0.678700</td>\n",
       "      <td>-0.043634</td>\n",
       "      <td>-0.471227</td>\n",
       "    </tr>\n",
       "    <tr>\n",
       "      <th>3</th>\n",
       "      <td>2.001185</td>\n",
       "      <td>-0.358458</td>\n",
       "      <td>-0.532727</td>\n",
       "      <td>-0.436365</td>\n",
       "      <td>-0.587238</td>\n",
       "      <td>1.381172</td>\n",
       "      <td>-1.173623</td>\n",
       "      <td>2.121403</td>\n",
       "      <td>-0.526353</td>\n",
       "    </tr>\n",
       "    <tr>\n",
       "      <th>4</th>\n",
       "      <td>-0.700490</td>\n",
       "      <td>-0.069585</td>\n",
       "      <td>-0.162319</td>\n",
       "      <td>0.150713</td>\n",
       "      <td>0.130793</td>\n",
       "      <td>-0.602599</td>\n",
       "      <td>0.712583</td>\n",
       "      <td>-0.546823</td>\n",
       "      <td>-0.012432</td>\n",
       "    </tr>\n",
       "  </tbody>\n",
       "</table>\n",
       "</div>"
      ],
      "text/plain": [
       "   child_mort   exports    health   imports    income  inflation  life_expec  \\\n",
       "0    1.285378 -0.543227 -0.566958 -0.567422 -0.820598   0.154565   -1.614114   \n",
       "1   -0.543908 -0.449295 -0.435152 -0.387364 -0.368021  -0.313930    0.656110   \n",
       "2   -0.277965 -0.400391 -0.482929 -0.448158 -0.206464   0.784905    0.678700   \n",
       "3    2.001185 -0.358458 -0.532727 -0.436365 -0.587238   1.381172   -1.173623   \n",
       "4   -0.700490 -0.069585 -0.162319  0.150713  0.130793  -0.602599    0.712583   \n",
       "\n",
       "   total_fer      gdpp  \n",
       "0   1.896292 -0.702817  \n",
       "1  -0.864627 -0.493159  \n",
       "2  -0.043634 -0.471227  \n",
       "3   2.121403 -0.526353  \n",
       "4  -0.546823 -0.012432  "
      ]
     },
     "execution_count": 83,
     "metadata": {},
     "output_type": "execute_result"
    }
   ],
   "source": [
    "rfm_df = df_country_drop\n",
    "\n",
    "scaler = StandardScaler()\n",
    "\n",
    "rfm_df_scaled = scaler.fit_transform(rfm_df)\n",
    "\n",
    "rfm_df_scaled = pd.DataFrame(rfm_df_scaled)\n",
    "rfm_df_scaled.columns = ['child_mort','exports','health','imports','income','inflation','life_expec','total_fer','gdpp']\n",
    "rfm_df_scaled.head()"
   ]
  },
  {
   "cell_type": "markdown",
   "metadata": {},
   "source": [
    "# K-means Modeling"
   ]
  },
  {
   "cell_type": "markdown",
   "metadata": {},
   "source": [
    "### Finding the Optimal Number of Clusters using Elbow curve (ssd analysis):"
   ]
  },
  {
   "cell_type": "code",
   "execution_count": 84,
   "metadata": {},
   "outputs": [
    {
     "data": {
      "text/plain": [
       "[<matplotlib.lines.Line2D at 0x27ff1f5e7c8>]"
      ]
     },
     "execution_count": 84,
     "metadata": {},
     "output_type": "execute_result"
    },
    {
     "data": {
      "image/png": "[encoded data removed]",
      "text/plain": [
       "<Figure size 432x288 with 1 Axes>"
      ]
     },
     "metadata": {
      "needs_background": "light"
     },
     "output_type": "display_data"
    }
   ],
   "source": [
    "#let's proceed to the elbow curve method\n",
    "ssd = []\n",
    "range_n_clusters = [2,3,4,5,6,7,8]\n",
    "for num_clusters in range_n_clusters:\n",
    "    kmeans = KMeans(n_clusters = num_clusters, max_iter = 50)\n",
    "    kmeans.fit(rfm_df_scaled)\n",
    "    ssd.append([kmeans.inertia_])\n",
    "    \n",
    "plt.plot(ssd)\n"
   ]
  },
  {
   "cell_type": "markdown",
   "metadata": {},
   "source": [
    "#### From the Elbow Curve, 3 clusters (index=1) seems fine for clustering our dataset."
   ]
  },
  {
   "cell_type": "markdown",
   "metadata": {},
   "source": [
    "### Finding the Optimal Number of Clusters using Silhouette Analysis"
   ]
  },
  {
   "cell_type": "code",
   "execution_count": 85,
   "metadata": {},
   "outputs": [
    {
     "name": "stdout",
     "output_type": "stream",
     "text": [
      "For n_clusters=2, the silhouette score is 0.4772389734172778\n",
      "For n_clusters=3, the silhouette score is 0.4200380405745469\n",
      "For n_clusters=4, the silhouette score is 0.4063470138491237\n",
      "For n_clusters=5, the silhouette score is 0.40423782134777614\n",
      "For n_clusters=6, the silhouette score is 0.3378481573819303\n",
      "For n_clusters=7, the silhouette score is 0.29777951269131336\n",
      "For n_clusters=8, the silhouette score is 0.3012038937531081\n"
     ]
    }
   ],
   "source": [
    "range_n_clusters = [2, 3, 4, 5, 6, 7, 8]\n",
    "for num_clusters in range_n_clusters:\n",
    "    kmeans = KMeans(n_clusters=num_clusters, max_iter=50)\n",
    "    kmeans.fit(rfm_df_scaled)\n",
    "    cluster_labels = kmeans.labels_\n",
    "    silhouette_avg = silhouette_score(rfm_df_scaled, cluster_labels)\n",
    "    print(\"For n_clusters={0}, the silhouette score is {1}\".format(num_clusters, silhouette_avg))"
   ]
  },
  {
   "cell_type": "markdown",
   "metadata": {},
   "source": [
    "#### From the Silhouette Analysis, any number of clusters from 2 to 5 seems fine for clustering our dataset."
   ]
  },
  {
   "cell_type": "markdown",
   "metadata": {},
   "source": [
    "# KMeans with the K=3"
   ]
  },
  {
   "cell_type": "markdown",
   "metadata": {},
   "source": [
    "#### Selecting K=3 for our final model (based on Elbow Curve and Silhouette Score)"
   ]
  },
  {
   "cell_type": "code",
   "execution_count": 86,
   "metadata": {},
   "outputs": [
    {
     "data": {
      "text/plain": [
       "array([1, 0, 0, 1, 0, 0, 0, 2, 2, 0, 0, 0, 0, 0, 0, 2, 0, 1, 0, 0, 0, 1,\n",
       "       0, 2, 0, 1, 1, 0, 1, 2, 0, 1, 1, 0, 0, 0, 1, 1, 1, 0, 1, 0, 2, 0,\n",
       "       2, 0, 0, 0, 0, 1, 1, 0, 0, 2, 2, 1, 1, 0, 2, 1, 0, 0, 0, 1, 1, 0,\n",
       "       1, 0, 2, 0, 0, 0, 1, 2, 0, 2, 0, 2, 0, 0, 1, 1, 2, 0, 1, 0, 0, 1,\n",
       "       1, 0, 0, 0, 1, 1, 0, 0, 1, 2, 1, 0, 0, 0, 0, 0, 0, 1, 0, 1, 0, 2,\n",
       "       2, 1, 1, 2, 0, 1, 0, 0, 0, 0, 0, 0, 2, 0, 0, 1, 0, 0, 1, 0, 0, 1,\n",
       "       2, 0, 2, 1, 1, 0, 2, 0, 0, 1, 0, 2, 2, 0, 1, 0, 1, 1, 0, 0, 0, 0,\n",
       "       1, 0, 2, 2, 2, 0, 0, 0, 0, 0, 1, 1])"
      ]
     },
     "execution_count": 86,
     "metadata": {},
     "output_type": "execute_result"
    }
   ],
   "source": [
    "kmeans = KMeans(n_clusters=3, max_iter=50)\n",
    "\n",
    "kmeans.fit(rfm_df_scaled)\n",
    "\n",
    "kmeans.labels_"
   ]
  },
  {
   "cell_type": "code",
   "execution_count": 87,
   "metadata": {},
   "outputs": [
    {
     "data": {
      "text/html": [
       "<div>\n",
       "<style scoped>\n",
       "    .dataframe tbody tr th:only-of-type {\n",
       "        vertical-align: middle;\n",
       "    }\n",
       "\n",
       "    .dataframe tbody tr th {\n",
       "        vertical-align: top;\n",
       "    }\n",
       "\n",
       "    .dataframe thead th {\n",
       "        text-align: right;\n",
       "    }\n",
       "</style>\n",
       "<table border=\"1\" class=\"dataframe\">\n",
       "  <thead>\n",
       "    <tr style=\"text-align: right;\">\n",
       "      <th></th>\n",
       "      <th>country</th>\n",
       "      <th>child_mort</th>\n",
       "      <th>exports</th>\n",
       "      <th>health</th>\n",
       "      <th>imports</th>\n",
       "      <th>income</th>\n",
       "      <th>inflation</th>\n",
       "      <th>life_expec</th>\n",
       "      <th>total_fer</th>\n",
       "      <th>gdpp</th>\n",
       "      <th>cluster_id</th>\n",
       "    </tr>\n",
       "  </thead>\n",
       "  <tbody>\n",
       "    <tr>\n",
       "      <th>0</th>\n",
       "      <td>Afghanistan</td>\n",
       "      <td>90.2</td>\n",
       "      <td>55.30</td>\n",
       "      <td>41.9174</td>\n",
       "      <td>248.297</td>\n",
       "      <td>1610</td>\n",
       "      <td>9.44</td>\n",
       "      <td>56.2</td>\n",
       "      <td>5.82</td>\n",
       "      <td>553</td>\n",
       "      <td>1</td>\n",
       "    </tr>\n",
       "    <tr>\n",
       "      <th>1</th>\n",
       "      <td>Albania</td>\n",
       "      <td>16.6</td>\n",
       "      <td>1145.20</td>\n",
       "      <td>267.8950</td>\n",
       "      <td>1987.740</td>\n",
       "      <td>9930</td>\n",
       "      <td>4.49</td>\n",
       "      <td>76.3</td>\n",
       "      <td>1.65</td>\n",
       "      <td>4090</td>\n",
       "      <td>0</td>\n",
       "    </tr>\n",
       "    <tr>\n",
       "      <th>2</th>\n",
       "      <td>Algeria</td>\n",
       "      <td>27.3</td>\n",
       "      <td>1712.64</td>\n",
       "      <td>185.9820</td>\n",
       "      <td>1400.440</td>\n",
       "      <td>12900</td>\n",
       "      <td>16.10</td>\n",
       "      <td>76.5</td>\n",
       "      <td>2.89</td>\n",
       "      <td>4460</td>\n",
       "      <td>0</td>\n",
       "    </tr>\n",
       "    <tr>\n",
       "      <th>3</th>\n",
       "      <td>Angola</td>\n",
       "      <td>119.0</td>\n",
       "      <td>2199.19</td>\n",
       "      <td>100.6050</td>\n",
       "      <td>1514.370</td>\n",
       "      <td>5900</td>\n",
       "      <td>22.40</td>\n",
       "      <td>60.1</td>\n",
       "      <td>6.16</td>\n",
       "      <td>3530</td>\n",
       "      <td>1</td>\n",
       "    </tr>\n",
       "    <tr>\n",
       "      <th>4</th>\n",
       "      <td>Antigua and Barbuda</td>\n",
       "      <td>10.3</td>\n",
       "      <td>5551.00</td>\n",
       "      <td>735.6600</td>\n",
       "      <td>7185.800</td>\n",
       "      <td>19100</td>\n",
       "      <td>1.44</td>\n",
       "      <td>76.8</td>\n",
       "      <td>2.13</td>\n",
       "      <td>12200</td>\n",
       "      <td>0</td>\n",
       "    </tr>\n",
       "  </tbody>\n",
       "</table>\n",
       "</div>"
      ],
      "text/plain": [
       "               country  child_mort  exports    health   imports  income  \\\n",
       "0          Afghanistan        90.2    55.30   41.9174   248.297    1610   \n",
       "1              Albania        16.6  1145.20  267.8950  1987.740    9930   \n",
       "2              Algeria        27.3  1712.64  185.9820  1400.440   12900   \n",
       "3               Angola       119.0  2199.19  100.6050  1514.370    5900   \n",
       "4  Antigua and Barbuda        10.3  5551.00  735.6600  7185.800   19100   \n",
       "\n",
       "   inflation  life_expec  total_fer   gdpp  cluster_id  \n",
       "0       9.44        56.2       5.82    553           1  \n",
       "1       4.49        76.3       1.65   4090           0  \n",
       "2      16.10        76.5       2.89   4460           0  \n",
       "3      22.40        60.1       6.16   3530           1  \n",
       "4       1.44        76.8       2.13  12200           0  "
      ]
     },
     "execution_count": 87,
     "metadata": {},
     "output_type": "execute_result"
    }
   ],
   "source": [
    "# assigning the labels to our original dataframe\n",
    "\n",
    "country_df['cluster_id'] = kmeans.labels_\n",
    "country_df.head()"
   ]
  },
  {
   "cell_type": "code",
   "execution_count": 88,
   "metadata": {},
   "outputs": [
    {
     "data": {
      "text/plain": [
       "0    90\n",
       "1    48\n",
       "2    28\n",
       "Name: cluster_id, dtype: int64"
      ]
     },
     "execution_count": 88,
     "metadata": {},
     "output_type": "execute_result"
    }
   ],
   "source": [
    "# Checking the number of observations in each cluster\n",
    "\n",
    "country_df['cluster_id'].value_counts()"
   ]
  },
  {
   "cell_type": "code",
   "execution_count": 89,
   "metadata": {},
   "outputs": [
    {
     "data": {
      "text/plain": [
       "<matplotlib.axes._subplots.AxesSubplot at 0x27ff1d4c948>"
      ]
     },
     "execution_count": 89,
     "metadata": {},
     "output_type": "execute_result"
    },
    {
     "data": {
      "image/png": "[encoded data removed]",
      "text/plain": [
       "<Figure size 1224x360 with 3 Axes>"
      ]
     },
     "metadata": {
      "needs_background": "light"
     },
     "output_type": "display_data"
    }
   ],
   "source": [
    "plt.figure(figsize=(17,5))\n",
    "\n",
    "# Visualising the clusters using income and gdpp\n",
    "plt.subplot(1,3,1)\n",
    "sns.scatterplot(x = 'income', y = 'gdpp', hue ='cluster_id', legend = 'full', data = country_df, palette='Set1')\n",
    "\n",
    "# Visualising clusters using income and child_mort\n",
    "plt.subplot(1,3,2)\n",
    "sns.scatterplot(x = 'income', y = 'child_mort', hue ='cluster_id', legend = 'full', data = country_df, palette='Set1')\n",
    "\n",
    "# Visualising clusters using gdpp and child_mort\n",
    "plt.subplot(1,3,3)\n",
    "sns.scatterplot(x = 'gdpp', y = 'child_mort', hue ='cluster_id', legend = 'full', data = country_df, palette='Set1')"
   ]
  },
  {
   "cell_type": "code",
   "execution_count": 90,
   "metadata": {},
   "outputs": [
    {
     "data": {
      "text/plain": [
       "<matplotlib.axes._subplots.AxesSubplot at 0x27ff1e72d48>"
      ]
     },
     "execution_count": 90,
     "metadata": {},
     "output_type": "execute_result"
    },
    {
     "data": {
      "image/png": "[encoded data removed]",
      "text/plain": [
       "<Figure size 1296x360 with 3 Axes>"
      ]
     },
     "metadata": {
      "needs_background": "light"
     },
     "output_type": "display_data"
    }
   ],
   "source": [
    "plt.figure (figsize=(18,5))\n",
    "\n",
    "# Visualising clusters for income\n",
    "plt.subplot(1,3,1)\n",
    "sns.boxplot(x='cluster_id', y='income', data=country_df)\n",
    "\n",
    "# Visualising clusters for gdpp\n",
    "plt.subplot(1,3,2)\n",
    "sns.boxplot(x='cluster_id', y='gdpp', data=country_df)\n",
    "\n",
    "# Visualising clusters for child_mort\n",
    "plt.subplot(1,3,3)\n",
    "sns.boxplot(x='cluster_id', y='child_mort', data=country_df)"
   ]
  },
  {
   "cell_type": "markdown",
   "metadata": {},
   "source": [
    "# Cluster Profiling - K means"
   ]
  },
  {
   "cell_type": "code",
   "execution_count": 91,
   "metadata": {},
   "outputs": [
    {
     "data": {
      "text/html": [
       "<div>\n",
       "<style scoped>\n",
       "    .dataframe tbody tr th:only-of-type {\n",
       "        vertical-align: middle;\n",
       "    }\n",
       "\n",
       "    .dataframe tbody tr th {\n",
       "        vertical-align: top;\n",
       "    }\n",
       "\n",
       "    .dataframe thead th {\n",
       "        text-align: right;\n",
       "    }\n",
       "</style>\n",
       "<table border=\"1\" class=\"dataframe\">\n",
       "  <thead>\n",
       "    <tr style=\"text-align: right;\">\n",
       "      <th></th>\n",
       "      <th>country</th>\n",
       "      <th>child_mort</th>\n",
       "      <th>exports</th>\n",
       "      <th>health</th>\n",
       "      <th>imports</th>\n",
       "      <th>income</th>\n",
       "      <th>inflation</th>\n",
       "      <th>life_expec</th>\n",
       "      <th>total_fer</th>\n",
       "      <th>gdpp</th>\n",
       "      <th>cluster_id</th>\n",
       "    </tr>\n",
       "  </thead>\n",
       "  <tbody>\n",
       "    <tr>\n",
       "      <th>0</th>\n",
       "      <td>Afghanistan</td>\n",
       "      <td>90.2</td>\n",
       "      <td>55.30</td>\n",
       "      <td>41.9174</td>\n",
       "      <td>248.297</td>\n",
       "      <td>1610</td>\n",
       "      <td>9.44</td>\n",
       "      <td>56.2</td>\n",
       "      <td>5.82</td>\n",
       "      <td>553</td>\n",
       "      <td>1</td>\n",
       "    </tr>\n",
       "    <tr>\n",
       "      <th>1</th>\n",
       "      <td>Albania</td>\n",
       "      <td>16.6</td>\n",
       "      <td>1145.20</td>\n",
       "      <td>267.8950</td>\n",
       "      <td>1987.740</td>\n",
       "      <td>9930</td>\n",
       "      <td>4.49</td>\n",
       "      <td>76.3</td>\n",
       "      <td>1.65</td>\n",
       "      <td>4090</td>\n",
       "      <td>0</td>\n",
       "    </tr>\n",
       "    <tr>\n",
       "      <th>2</th>\n",
       "      <td>Algeria</td>\n",
       "      <td>27.3</td>\n",
       "      <td>1712.64</td>\n",
       "      <td>185.9820</td>\n",
       "      <td>1400.440</td>\n",
       "      <td>12900</td>\n",
       "      <td>16.10</td>\n",
       "      <td>76.5</td>\n",
       "      <td>2.89</td>\n",
       "      <td>4460</td>\n",
       "      <td>0</td>\n",
       "    </tr>\n",
       "    <tr>\n",
       "      <th>3</th>\n",
       "      <td>Angola</td>\n",
       "      <td>119.0</td>\n",
       "      <td>2199.19</td>\n",
       "      <td>100.6050</td>\n",
       "      <td>1514.370</td>\n",
       "      <td>5900</td>\n",
       "      <td>22.40</td>\n",
       "      <td>60.1</td>\n",
       "      <td>6.16</td>\n",
       "      <td>3530</td>\n",
       "      <td>1</td>\n",
       "    </tr>\n",
       "    <tr>\n",
       "      <th>4</th>\n",
       "      <td>Antigua and Barbuda</td>\n",
       "      <td>10.3</td>\n",
       "      <td>5551.00</td>\n",
       "      <td>735.6600</td>\n",
       "      <td>7185.800</td>\n",
       "      <td>19100</td>\n",
       "      <td>1.44</td>\n",
       "      <td>76.8</td>\n",
       "      <td>2.13</td>\n",
       "      <td>12200</td>\n",
       "      <td>0</td>\n",
       "    </tr>\n",
       "  </tbody>\n",
       "</table>\n",
       "</div>"
      ],
      "text/plain": [
       "               country  child_mort  exports    health   imports  income  \\\n",
       "0          Afghanistan        90.2    55.30   41.9174   248.297    1610   \n",
       "1              Albania        16.6  1145.20  267.8950  1987.740    9930   \n",
       "2              Algeria        27.3  1712.64  185.9820  1400.440   12900   \n",
       "3               Angola       119.0  2199.19  100.6050  1514.370    5900   \n",
       "4  Antigua and Barbuda        10.3  5551.00  735.6600  7185.800   19100   \n",
       "\n",
       "   inflation  life_expec  total_fer   gdpp  cluster_id  \n",
       "0       9.44        56.2       5.82    553           1  \n",
       "1       4.49        76.3       1.65   4090           0  \n",
       "2      16.10        76.5       2.89   4460           0  \n",
       "3      22.40        60.1       6.16   3530           1  \n",
       "4       1.44        76.8       2.13  12200           0  "
      ]
     },
     "execution_count": 91,
     "metadata": {},
     "output_type": "execute_result"
    }
   ],
   "source": [
    "country_df.head()"
   ]
  },
  {
   "cell_type": "code",
   "execution_count": 92,
   "metadata": {},
   "outputs": [
    {
     "data": {
      "text/html": [
       "<div>\n",
       "<style scoped>\n",
       "    .dataframe tbody tr th:only-of-type {\n",
       "        vertical-align: middle;\n",
       "    }\n",
       "\n",
       "    .dataframe tbody tr th {\n",
       "        vertical-align: top;\n",
       "    }\n",
       "\n",
       "    .dataframe thead th {\n",
       "        text-align: right;\n",
       "    }\n",
       "</style>\n",
       "<table border=\"1\" class=\"dataframe\">\n",
       "  <thead>\n",
       "    <tr style=\"text-align: right;\">\n",
       "      <th></th>\n",
       "      <th>child_mort</th>\n",
       "      <th>exports</th>\n",
       "      <th>health</th>\n",
       "      <th>imports</th>\n",
       "      <th>income</th>\n",
       "      <th>inflation</th>\n",
       "      <th>life_expec</th>\n",
       "      <th>total_fer</th>\n",
       "      <th>gdpp</th>\n",
       "    </tr>\n",
       "    <tr>\n",
       "      <th>cluster_id</th>\n",
       "      <th></th>\n",
       "      <th></th>\n",
       "      <th></th>\n",
       "      <th></th>\n",
       "      <th></th>\n",
       "      <th></th>\n",
       "      <th></th>\n",
       "      <th></th>\n",
       "      <th></th>\n",
       "    </tr>\n",
       "  </thead>\n",
       "  <tbody>\n",
       "    <tr>\n",
       "      <th>0</th>\n",
       "      <td>20.547778</td>\n",
       "      <td>3477.015539</td>\n",
       "      <td>528.894338</td>\n",
       "      <td>3588.133568</td>\n",
       "      <td>13804.333333</td>\n",
       "      <td>7.160078</td>\n",
       "      <td>73.393333</td>\n",
       "      <td>2.242444</td>\n",
       "      <td>7808.577778</td>\n",
       "    </tr>\n",
       "    <tr>\n",
       "      <th>1</th>\n",
       "      <td>91.610417</td>\n",
       "      <td>879.063521</td>\n",
       "      <td>114.821765</td>\n",
       "      <td>827.028771</td>\n",
       "      <td>3897.354167</td>\n",
       "      <td>11.911146</td>\n",
       "      <td>59.239583</td>\n",
       "      <td>4.992083</td>\n",
       "      <td>1909.208333</td>\n",
       "    </tr>\n",
       "    <tr>\n",
       "      <th>2</th>\n",
       "      <td>5.060714</td>\n",
       "      <td>25013.103571</td>\n",
       "      <td>4114.428929</td>\n",
       "      <td>21018.764286</td>\n",
       "      <td>47928.571429</td>\n",
       "      <td>2.850143</td>\n",
       "      <td>80.450000</td>\n",
       "      <td>1.758571</td>\n",
       "      <td>45200.000000</td>\n",
       "    </tr>\n",
       "  </tbody>\n",
       "</table>\n",
       "</div>"
      ],
      "text/plain": [
       "            child_mort       exports       health       imports        income  \\\n",
       "cluster_id                                                                      \n",
       "0            20.547778   3477.015539   528.894338   3588.133568  13804.333333   \n",
       "1            91.610417    879.063521   114.821765    827.028771   3897.354167   \n",
       "2             5.060714  25013.103571  4114.428929  21018.764286  47928.571429   \n",
       "\n",
       "            inflation  life_expec  total_fer          gdpp  \n",
       "cluster_id                                                  \n",
       "0            7.160078   73.393333   2.242444   7808.577778  \n",
       "1           11.911146   59.239583   4.992083   1909.208333  \n",
       "2            2.850143   80.450000   1.758571  45200.000000  "
      ]
     },
     "execution_count": 92,
     "metadata": {},
     "output_type": "execute_result"
    }
   ],
   "source": [
    "# Getting mean values for each cluster\n",
    "\n",
    "country_df.drop('country', axis = 1).groupby('cluster_id').mean()"
   ]
  },
  {
   "cell_type": "code",
   "execution_count": 93,
   "metadata": {},
   "outputs": [
    {
     "data": {
      "text/plain": [
       "<matplotlib.axes._subplots.AxesSubplot at 0x27ff6ad8248>"
      ]
     },
     "execution_count": 93,
     "metadata": {},
     "output_type": "execute_result"
    },
    {
     "data": {
      "image/png": "[encoded data removed]",
      "text/plain": [
       "<Figure size 432x288 with 1 Axes>"
      ]
     },
     "metadata": {
      "needs_background": "light"
     },
     "output_type": "display_data"
    }
   ],
   "source": [
    "country_df.drop('country', axis = 1).groupby('cluster_id').mean().plot(kind = 'bar')"
   ]
  },
  {
   "cell_type": "code",
   "execution_count": 94,
   "metadata": {},
   "outputs": [
    {
     "data": {
      "text/plain": [
       "<matplotlib.axes._subplots.AxesSubplot at 0x27ff367af48>"
      ]
     },
     "execution_count": 94,
     "metadata": {},
     "output_type": "execute_result"
    },
    {
     "data": {
      "image/png": "[encoded data removed]",
      "text/plain": [
       "<Figure size 432x288 with 1 Axes>"
      ]
     },
     "metadata": {
      "needs_background": "light"
     },
     "output_type": "display_data"
    }
   ],
   "source": [
    "# Plotting bar graph with mean for income, gdpp, and child_mort\n",
    "\n",
    "country_df.drop('country', axis = 1)[['income','gdpp','child_mort','cluster_id']].groupby('cluster_id').mean().plot(kind = 'bar')"
   ]
  },
  {
   "cell_type": "markdown",
   "metadata": {},
   "source": [
    "#### Since Cluster 1 has the highest mortality rate, along with the lowest Income and GDP, it is the ideal cluster for the NGO to concentrate upon."
   ]
  },
  {
   "cell_type": "code",
   "execution_count": 95,
   "metadata": {},
   "outputs": [
    {
     "data": {
      "text/plain": [
       "0                   Afghanistan\n",
       "3                        Angola\n",
       "17                        Benin\n",
       "21                     Botswana\n",
       "25                 Burkina Faso\n",
       "26                      Burundi\n",
       "28                     Cameroon\n",
       "31     Central African Republic\n",
       "32                         Chad\n",
       "36                      Comoros\n",
       "37             Congo, Dem. Rep.\n",
       "38                  Congo, Rep.\n",
       "40                Cote d'Ivoire\n",
       "49            Equatorial Guinea\n",
       "50                      Eritrea\n",
       "55                        Gabon\n",
       "56                       Gambia\n",
       "59                        Ghana\n",
       "63                       Guinea\n",
       "64                Guinea-Bissau\n",
       "66                        Haiti\n",
       "72                         Iraq\n",
       "80                        Kenya\n",
       "81                     Kiribati\n",
       "84                          Lao\n",
       "87                      Lesotho\n",
       "88                      Liberia\n",
       "93                   Madagascar\n",
       "94                       Malawi\n",
       "97                         Mali\n",
       "99                   Mauritania\n",
       "106                  Mozambique\n",
       "108                     Namibia\n",
       "112                       Niger\n",
       "113                     Nigeria\n",
       "116                    Pakistan\n",
       "126                      Rwanda\n",
       "129                     Senegal\n",
       "132                Sierra Leone\n",
       "136             Solomon Islands\n",
       "137                South Africa\n",
       "142                       Sudan\n",
       "147                    Tanzania\n",
       "149                 Timor-Leste\n",
       "150                        Togo\n",
       "155                      Uganda\n",
       "165                       Yemen\n",
       "166                      Zambia\n",
       "Name: country, dtype: object"
      ]
     },
     "execution_count": 95,
     "metadata": {},
     "output_type": "execute_result"
    }
   ],
   "source": [
    "country_df[country_df['cluster_id']==1]['country']"
   ]
  },
  {
   "cell_type": "code",
   "execution_count": 96,
   "metadata": {},
   "outputs": [
    {
     "data": {
      "text/html": [
       "<div>\n",
       "<style scoped>\n",
       "    .dataframe tbody tr th:only-of-type {\n",
       "        vertical-align: middle;\n",
       "    }\n",
       "\n",
       "    .dataframe tbody tr th {\n",
       "        vertical-align: top;\n",
       "    }\n",
       "\n",
       "    .dataframe thead th {\n",
       "        text-align: right;\n",
       "    }\n",
       "</style>\n",
       "<table border=\"1\" class=\"dataframe\">\n",
       "  <thead>\n",
       "    <tr style=\"text-align: right;\">\n",
       "      <th></th>\n",
       "      <th>country</th>\n",
       "      <th>child_mort</th>\n",
       "      <th>exports</th>\n",
       "      <th>health</th>\n",
       "      <th>imports</th>\n",
       "      <th>income</th>\n",
       "      <th>inflation</th>\n",
       "      <th>life_expec</th>\n",
       "      <th>total_fer</th>\n",
       "      <th>gdpp</th>\n",
       "      <th>cluster_id</th>\n",
       "    </tr>\n",
       "  </thead>\n",
       "  <tbody>\n",
       "    <tr>\n",
       "      <th>66</th>\n",
       "      <td>Haiti</td>\n",
       "      <td>208.0</td>\n",
       "      <td>101.286</td>\n",
       "      <td>45.7442</td>\n",
       "      <td>428.314</td>\n",
       "      <td>1500</td>\n",
       "      <td>5.45</td>\n",
       "      <td>32.1</td>\n",
       "      <td>3.33</td>\n",
       "      <td>662</td>\n",
       "      <td>1</td>\n",
       "    </tr>\n",
       "    <tr>\n",
       "      <th>132</th>\n",
       "      <td>Sierra Leone</td>\n",
       "      <td>160.0</td>\n",
       "      <td>67.032</td>\n",
       "      <td>52.2690</td>\n",
       "      <td>137.655</td>\n",
       "      <td>1220</td>\n",
       "      <td>17.20</td>\n",
       "      <td>55.0</td>\n",
       "      <td>5.20</td>\n",
       "      <td>399</td>\n",
       "      <td>1</td>\n",
       "    </tr>\n",
       "    <tr>\n",
       "      <th>32</th>\n",
       "      <td>Chad</td>\n",
       "      <td>150.0</td>\n",
       "      <td>330.096</td>\n",
       "      <td>40.6341</td>\n",
       "      <td>390.195</td>\n",
       "      <td>1930</td>\n",
       "      <td>6.39</td>\n",
       "      <td>56.5</td>\n",
       "      <td>6.59</td>\n",
       "      <td>897</td>\n",
       "      <td>1</td>\n",
       "    </tr>\n",
       "    <tr>\n",
       "      <th>31</th>\n",
       "      <td>Central African Republic</td>\n",
       "      <td>149.0</td>\n",
       "      <td>52.628</td>\n",
       "      <td>17.7508</td>\n",
       "      <td>118.190</td>\n",
       "      <td>888</td>\n",
       "      <td>2.01</td>\n",
       "      <td>47.5</td>\n",
       "      <td>5.21</td>\n",
       "      <td>446</td>\n",
       "      <td>1</td>\n",
       "    </tr>\n",
       "    <tr>\n",
       "      <th>97</th>\n",
       "      <td>Mali</td>\n",
       "      <td>137.0</td>\n",
       "      <td>161.424</td>\n",
       "      <td>35.2584</td>\n",
       "      <td>248.508</td>\n",
       "      <td>1870</td>\n",
       "      <td>4.37</td>\n",
       "      <td>59.5</td>\n",
       "      <td>6.55</td>\n",
       "      <td>708</td>\n",
       "      <td>1</td>\n",
       "    </tr>\n",
       "  </tbody>\n",
       "</table>\n",
       "</div>"
      ],
      "text/plain": [
       "                      country  child_mort  exports   health  imports  income  \\\n",
       "66                      Haiti       208.0  101.286  45.7442  428.314    1500   \n",
       "132              Sierra Leone       160.0   67.032  52.2690  137.655    1220   \n",
       "32                       Chad       150.0  330.096  40.6341  390.195    1930   \n",
       "31   Central African Republic       149.0   52.628  17.7508  118.190     888   \n",
       "97                       Mali       137.0  161.424  35.2584  248.508    1870   \n",
       "\n",
       "     inflation  life_expec  total_fer  gdpp  cluster_id  \n",
       "66        5.45        32.1       3.33   662           1  \n",
       "132      17.20        55.0       5.20   399           1  \n",
       "32        6.39        56.5       6.59   897           1  \n",
       "31        2.01        47.5       5.21   446           1  \n",
       "97        4.37        59.5       6.55   708           1  "
      ]
     },
     "execution_count": 96,
     "metadata": {},
     "output_type": "execute_result"
    }
   ],
   "source": [
    "# Sorting the countries in Cluster 0 on the basis of having low income and gdp, and high child mortality\n",
    "\n",
    "kmeans_final_cluster =country_df[country_df['cluster_id']==1].sort_values(by=['child_mort',\"income\", 'gdpp'], ascending=[False, True, True])\n",
    "kmeans_final_cluster.head()"
   ]
  },
  {
   "cell_type": "markdown",
   "metadata": {},
   "source": [
    "# Hierarchical Clustering"
   ]
  },
  {
   "cell_type": "code",
   "execution_count": 97,
   "metadata": {},
   "outputs": [
    {
     "data": {
      "text/html": [
       "<div>\n",
       "<style scoped>\n",
       "    .dataframe tbody tr th:only-of-type {\n",
       "        vertical-align: middle;\n",
       "    }\n",
       "\n",
       "    .dataframe tbody tr th {\n",
       "        vertical-align: top;\n",
       "    }\n",
       "\n",
       "    .dataframe thead th {\n",
       "        text-align: right;\n",
       "    }\n",
       "</style>\n",
       "<table border=\"1\" class=\"dataframe\">\n",
       "  <thead>\n",
       "    <tr style=\"text-align: right;\">\n",
       "      <th></th>\n",
       "      <th>child_mort</th>\n",
       "      <th>exports</th>\n",
       "      <th>health</th>\n",
       "      <th>imports</th>\n",
       "      <th>income</th>\n",
       "      <th>inflation</th>\n",
       "      <th>life_expec</th>\n",
       "      <th>total_fer</th>\n",
       "      <th>gdpp</th>\n",
       "    </tr>\n",
       "  </thead>\n",
       "  <tbody>\n",
       "    <tr>\n",
       "      <th>0</th>\n",
       "      <td>1.285378</td>\n",
       "      <td>-0.543227</td>\n",
       "      <td>-0.566958</td>\n",
       "      <td>-0.567422</td>\n",
       "      <td>-0.820598</td>\n",
       "      <td>0.154565</td>\n",
       "      <td>-1.614114</td>\n",
       "      <td>1.896292</td>\n",
       "      <td>-0.702817</td>\n",
       "    </tr>\n",
       "    <tr>\n",
       "      <th>1</th>\n",
       "      <td>-0.543908</td>\n",
       "      <td>-0.449295</td>\n",
       "      <td>-0.435152</td>\n",
       "      <td>-0.387364</td>\n",
       "      <td>-0.368021</td>\n",
       "      <td>-0.313930</td>\n",
       "      <td>0.656110</td>\n",
       "      <td>-0.864627</td>\n",
       "      <td>-0.493159</td>\n",
       "    </tr>\n",
       "    <tr>\n",
       "      <th>2</th>\n",
       "      <td>-0.277965</td>\n",
       "      <td>-0.400391</td>\n",
       "      <td>-0.482929</td>\n",
       "      <td>-0.448158</td>\n",
       "      <td>-0.206464</td>\n",
       "      <td>0.784905</td>\n",
       "      <td>0.678700</td>\n",
       "      <td>-0.043634</td>\n",
       "      <td>-0.471227</td>\n",
       "    </tr>\n",
       "    <tr>\n",
       "      <th>3</th>\n",
       "      <td>2.001185</td>\n",
       "      <td>-0.358458</td>\n",
       "      <td>-0.532727</td>\n",
       "      <td>-0.436365</td>\n",
       "      <td>-0.587238</td>\n",
       "      <td>1.381172</td>\n",
       "      <td>-1.173623</td>\n",
       "      <td>2.121403</td>\n",
       "      <td>-0.526353</td>\n",
       "    </tr>\n",
       "    <tr>\n",
       "      <th>4</th>\n",
       "      <td>-0.700490</td>\n",
       "      <td>-0.069585</td>\n",
       "      <td>-0.162319</td>\n",
       "      <td>0.150713</td>\n",
       "      <td>0.130793</td>\n",
       "      <td>-0.602599</td>\n",
       "      <td>0.712583</td>\n",
       "      <td>-0.546823</td>\n",
       "      <td>-0.012432</td>\n",
       "    </tr>\n",
       "  </tbody>\n",
       "</table>\n",
       "</div>"
      ],
      "text/plain": [
       "   child_mort   exports    health   imports    income  inflation  life_expec  \\\n",
       "0    1.285378 -0.543227 -0.566958 -0.567422 -0.820598   0.154565   -1.614114   \n",
       "1   -0.543908 -0.449295 -0.435152 -0.387364 -0.368021  -0.313930    0.656110   \n",
       "2   -0.277965 -0.400391 -0.482929 -0.448158 -0.206464   0.784905    0.678700   \n",
       "3    2.001185 -0.358458 -0.532727 -0.436365 -0.587238   1.381172   -1.173623   \n",
       "4   -0.700490 -0.069585 -0.162319  0.150713  0.130793  -0.602599    0.712583   \n",
       "\n",
       "   total_fer      gdpp  \n",
       "0   1.896292 -0.702817  \n",
       "1  -0.864627 -0.493159  \n",
       "2  -0.043634 -0.471227  \n",
       "3   2.121403 -0.526353  \n",
       "4  -0.546823 -0.012432  "
      ]
     },
     "execution_count": 97,
     "metadata": {},
     "output_type": "execute_result"
    }
   ],
   "source": [
    "rfm_df_scaled.head()"
   ]
  },
  {
   "cell_type": "code",
   "execution_count": 98,
   "metadata": {},
   "outputs": [
    {
     "data": {
      "text/html": [
       "<div>\n",
       "<style scoped>\n",
       "    .dataframe tbody tr th:only-of-type {\n",
       "        vertical-align: middle;\n",
       "    }\n",
       "\n",
       "    .dataframe tbody tr th {\n",
       "        vertical-align: top;\n",
       "    }\n",
       "\n",
       "    .dataframe thead th {\n",
       "        text-align: right;\n",
       "    }\n",
       "</style>\n",
       "<table border=\"1\" class=\"dataframe\">\n",
       "  <thead>\n",
       "    <tr style=\"text-align: right;\">\n",
       "      <th></th>\n",
       "      <th>country</th>\n",
       "      <th>child_mort</th>\n",
       "      <th>exports</th>\n",
       "      <th>health</th>\n",
       "      <th>imports</th>\n",
       "      <th>income</th>\n",
       "      <th>inflation</th>\n",
       "      <th>life_expec</th>\n",
       "      <th>total_fer</th>\n",
       "      <th>gdpp</th>\n",
       "      <th>cluster_id</th>\n",
       "    </tr>\n",
       "  </thead>\n",
       "  <tbody>\n",
       "    <tr>\n",
       "      <th>0</th>\n",
       "      <td>Afghanistan</td>\n",
       "      <td>90.2</td>\n",
       "      <td>55.30</td>\n",
       "      <td>41.9174</td>\n",
       "      <td>248.297</td>\n",
       "      <td>1610</td>\n",
       "      <td>9.44</td>\n",
       "      <td>56.2</td>\n",
       "      <td>5.82</td>\n",
       "      <td>553</td>\n",
       "      <td>1</td>\n",
       "    </tr>\n",
       "    <tr>\n",
       "      <th>1</th>\n",
       "      <td>Albania</td>\n",
       "      <td>16.6</td>\n",
       "      <td>1145.20</td>\n",
       "      <td>267.8950</td>\n",
       "      <td>1987.740</td>\n",
       "      <td>9930</td>\n",
       "      <td>4.49</td>\n",
       "      <td>76.3</td>\n",
       "      <td>1.65</td>\n",
       "      <td>4090</td>\n",
       "      <td>0</td>\n",
       "    </tr>\n",
       "    <tr>\n",
       "      <th>2</th>\n",
       "      <td>Algeria</td>\n",
       "      <td>27.3</td>\n",
       "      <td>1712.64</td>\n",
       "      <td>185.9820</td>\n",
       "      <td>1400.440</td>\n",
       "      <td>12900</td>\n",
       "      <td>16.10</td>\n",
       "      <td>76.5</td>\n",
       "      <td>2.89</td>\n",
       "      <td>4460</td>\n",
       "      <td>0</td>\n",
       "    </tr>\n",
       "    <tr>\n",
       "      <th>3</th>\n",
       "      <td>Angola</td>\n",
       "      <td>119.0</td>\n",
       "      <td>2199.19</td>\n",
       "      <td>100.6050</td>\n",
       "      <td>1514.370</td>\n",
       "      <td>5900</td>\n",
       "      <td>22.40</td>\n",
       "      <td>60.1</td>\n",
       "      <td>6.16</td>\n",
       "      <td>3530</td>\n",
       "      <td>1</td>\n",
       "    </tr>\n",
       "    <tr>\n",
       "      <th>4</th>\n",
       "      <td>Antigua and Barbuda</td>\n",
       "      <td>10.3</td>\n",
       "      <td>5551.00</td>\n",
       "      <td>735.6600</td>\n",
       "      <td>7185.800</td>\n",
       "      <td>19100</td>\n",
       "      <td>1.44</td>\n",
       "      <td>76.8</td>\n",
       "      <td>2.13</td>\n",
       "      <td>12200</td>\n",
       "      <td>0</td>\n",
       "    </tr>\n",
       "  </tbody>\n",
       "</table>\n",
       "</div>"
      ],
      "text/plain": [
       "               country  child_mort  exports    health   imports  income  \\\n",
       "0          Afghanistan        90.2    55.30   41.9174   248.297    1610   \n",
       "1              Albania        16.6  1145.20  267.8950  1987.740    9930   \n",
       "2              Algeria        27.3  1712.64  185.9820  1400.440   12900   \n",
       "3               Angola       119.0  2199.19  100.6050  1514.370    5900   \n",
       "4  Antigua and Barbuda        10.3  5551.00  735.6600  7185.800   19100   \n",
       "\n",
       "   inflation  life_expec  total_fer   gdpp  cluster_id  \n",
       "0       9.44        56.2       5.82    553           1  \n",
       "1       4.49        76.3       1.65   4090           0  \n",
       "2      16.10        76.5       2.89   4460           0  \n",
       "3      22.40        60.1       6.16   3530           1  \n",
       "4       1.44        76.8       2.13  12200           0  "
      ]
     },
     "execution_count": 98,
     "metadata": {},
     "output_type": "execute_result"
    }
   ],
   "source": [
    "# Original country dataframe\n",
    "\n",
    "country_df.head()"
   ]
  },
  {
   "cell_type": "code",
   "execution_count": 99,
   "metadata": {},
   "outputs": [],
   "source": [
    "# Removing cluster_id column before doing hierarchical clustering\n",
    "\n",
    "country_df.drop(['cluster_id'],axis=1,inplace=True)"
   ]
  },
  {
   "cell_type": "markdown",
   "metadata": {},
   "source": [
    "### Single Linkage Hierarchical Clustering"
   ]
  },
  {
   "cell_type": "code",
   "execution_count": 101,
   "metadata": {},
   "outputs": [
    {
     "data": {
      "image/png": "[encoded data removed]",
      "text/plain": [
       "<Figure size 1296x576 with 1 Axes>"
      ]
     },
     "metadata": {
      "needs_background": "light"
     },
     "output_type": "display_data"
    }
   ],
   "source": [
    "plt.figure(figsize=(18, 8))\n",
    "plt.title('Hierarchical Clustering Dendrogram')\n",
    "plt.xlabel('index')\n",
    "plt.ylabel('distance')\n",
    "mergings = linkage(rfm_df_scaled, method='single', metric='euclidean')\n",
    "dendrogram(mergings)\n",
    "plt.show()"
   ]
  },
  {
   "cell_type": "markdown",
   "metadata": {},
   "source": [
    "### Complete Linkage Hierarchical Clustering"
   ]
  },
  {
   "cell_type": "code",
   "execution_count": 102,
   "metadata": {},
   "outputs": [
    {
     "data": {
      "image/png": "[encoded data removed]",
      "text/plain": [
       "<Figure size 1296x576 with 1 Axes>"
      ]
     },
     "metadata": {
      "needs_background": "light"
     },
     "output_type": "display_data"
    }
   ],
   "source": [
    "plt.figure(figsize=(18, 8))\n",
    "plt.title('Hierarchical Clustering Dendrogram')\n",
    "plt.xlabel('index')\n",
    "plt.ylabel('distance')\n",
    "mergings = linkage(rfm_df_scaled, method=\"complete\", metric='euclidean')\n",
    "dendrogram(mergings)\n",
    "plt.show()"
   ]
  },
  {
   "cell_type": "markdown",
   "metadata": {},
   "source": [
    "#### Taking number of clusters = 4"
   ]
  },
  {
   "cell_type": "code",
   "execution_count": 103,
   "metadata": {},
   "outputs": [
    {
     "data": {
      "text/plain": [
       "array([0, 0, 0, 0, 0, 0, 0, 1, 1, 0, 1, 1, 0, 0, 0, 1, 0, 0, 0, 0, 0, 0,\n",
       "       0, 1, 0, 0, 0, 0, 0, 1, 0, 0, 0, 0, 0, 0, 0, 0, 0, 0, 0, 0, 1, 1,\n",
       "       1, 0, 0, 0, 0, 0, 0, 0, 0, 1, 1, 0, 0, 0, 1, 0, 1, 0, 0, 0, 0, 0,\n",
       "       0, 0, 1, 0, 0, 0, 0, 1, 1, 1, 0, 1, 0, 0, 0, 0, 1, 0, 0, 0, 0, 0,\n",
       "       0, 1, 0, 0, 0, 0, 1, 0, 0, 1, 0, 0, 0, 0, 0, 0, 0, 0, 0, 0, 0, 1,\n",
       "       1, 0, 2, 1, 1, 0, 0, 0, 0, 0, 0, 1, 1, 0, 0, 0, 0, 1, 0, 0, 0, 0,\n",
       "       3, 1, 1, 0, 0, 1, 1, 0, 0, 0, 0, 1, 1, 0, 0, 0, 0, 0, 0, 0, 0, 0,\n",
       "       0, 0, 1, 1, 1, 0, 0, 0, 0, 0, 0, 0])"
      ]
     },
     "execution_count": 103,
     "metadata": {},
     "output_type": "execute_result"
    }
   ],
   "source": [
    "cluster_labels = cut_tree(mergings, n_clusters=4).reshape(-1, )\n",
    "cluster_labels"
   ]
  },
  {
   "cell_type": "code",
   "execution_count": 104,
   "metadata": {},
   "outputs": [
    {
     "data": {
      "text/html": [
       "<div>\n",
       "<style scoped>\n",
       "    .dataframe tbody tr th:only-of-type {\n",
       "        vertical-align: middle;\n",
       "    }\n",
       "\n",
       "    .dataframe tbody tr th {\n",
       "        vertical-align: top;\n",
       "    }\n",
       "\n",
       "    .dataframe thead th {\n",
       "        text-align: right;\n",
       "    }\n",
       "</style>\n",
       "<table border=\"1\" class=\"dataframe\">\n",
       "  <thead>\n",
       "    <tr style=\"text-align: right;\">\n",
       "      <th></th>\n",
       "      <th>country</th>\n",
       "      <th>child_mort</th>\n",
       "      <th>exports</th>\n",
       "      <th>health</th>\n",
       "      <th>imports</th>\n",
       "      <th>income</th>\n",
       "      <th>inflation</th>\n",
       "      <th>life_expec</th>\n",
       "      <th>total_fer</th>\n",
       "      <th>gdpp</th>\n",
       "      <th>cluster_labels</th>\n",
       "    </tr>\n",
       "  </thead>\n",
       "  <tbody>\n",
       "    <tr>\n",
       "      <th>0</th>\n",
       "      <td>Afghanistan</td>\n",
       "      <td>90.2</td>\n",
       "      <td>55.30</td>\n",
       "      <td>41.9174</td>\n",
       "      <td>248.297</td>\n",
       "      <td>1610</td>\n",
       "      <td>9.44</td>\n",
       "      <td>56.2</td>\n",
       "      <td>5.82</td>\n",
       "      <td>553</td>\n",
       "      <td>0</td>\n",
       "    </tr>\n",
       "    <tr>\n",
       "      <th>1</th>\n",
       "      <td>Albania</td>\n",
       "      <td>16.6</td>\n",
       "      <td>1145.20</td>\n",
       "      <td>267.8950</td>\n",
       "      <td>1987.740</td>\n",
       "      <td>9930</td>\n",
       "      <td>4.49</td>\n",
       "      <td>76.3</td>\n",
       "      <td>1.65</td>\n",
       "      <td>4090</td>\n",
       "      <td>0</td>\n",
       "    </tr>\n",
       "    <tr>\n",
       "      <th>2</th>\n",
       "      <td>Algeria</td>\n",
       "      <td>27.3</td>\n",
       "      <td>1712.64</td>\n",
       "      <td>185.9820</td>\n",
       "      <td>1400.440</td>\n",
       "      <td>12900</td>\n",
       "      <td>16.10</td>\n",
       "      <td>76.5</td>\n",
       "      <td>2.89</td>\n",
       "      <td>4460</td>\n",
       "      <td>0</td>\n",
       "    </tr>\n",
       "    <tr>\n",
       "      <th>3</th>\n",
       "      <td>Angola</td>\n",
       "      <td>119.0</td>\n",
       "      <td>2199.19</td>\n",
       "      <td>100.6050</td>\n",
       "      <td>1514.370</td>\n",
       "      <td>5900</td>\n",
       "      <td>22.40</td>\n",
       "      <td>60.1</td>\n",
       "      <td>6.16</td>\n",
       "      <td>3530</td>\n",
       "      <td>0</td>\n",
       "    </tr>\n",
       "    <tr>\n",
       "      <th>4</th>\n",
       "      <td>Antigua and Barbuda</td>\n",
       "      <td>10.3</td>\n",
       "      <td>5551.00</td>\n",
       "      <td>735.6600</td>\n",
       "      <td>7185.800</td>\n",
       "      <td>19100</td>\n",
       "      <td>1.44</td>\n",
       "      <td>76.8</td>\n",
       "      <td>2.13</td>\n",
       "      <td>12200</td>\n",
       "      <td>0</td>\n",
       "    </tr>\n",
       "  </tbody>\n",
       "</table>\n",
       "</div>"
      ],
      "text/plain": [
       "               country  child_mort  exports    health   imports  income  \\\n",
       "0          Afghanistan        90.2    55.30   41.9174   248.297    1610   \n",
       "1              Albania        16.6  1145.20  267.8950  1987.740    9930   \n",
       "2              Algeria        27.3  1712.64  185.9820  1400.440   12900   \n",
       "3               Angola       119.0  2199.19  100.6050  1514.370    5900   \n",
       "4  Antigua and Barbuda        10.3  5551.00  735.6600  7185.800   19100   \n",
       "\n",
       "   inflation  life_expec  total_fer   gdpp  cluster_labels  \n",
       "0       9.44        56.2       5.82    553               0  \n",
       "1       4.49        76.3       1.65   4090               0  \n",
       "2      16.10        76.5       2.89   4460               0  \n",
       "3      22.40        60.1       6.16   3530               0  \n",
       "4       1.44        76.8       2.13  12200               0  "
      ]
     },
     "execution_count": 104,
     "metadata": {},
     "output_type": "execute_result"
    }
   ],
   "source": [
    "# Assigning cluster labels to our dataset\n",
    "\n",
    "country_df['cluster_labels'] = cluster_labels\n",
    "country_df.head()"
   ]
  },
  {
   "cell_type": "code",
   "execution_count": 105,
   "metadata": {},
   "outputs": [
    {
     "data": {
      "text/plain": [
       "0    125\n",
       "1     39\n",
       "3      1\n",
       "2      1\n",
       "Name: cluster_labels, dtype: int64"
      ]
     },
     "execution_count": 105,
     "metadata": {},
     "output_type": "execute_result"
    }
   ],
   "source": [
    "# Checking the number of observations in each cluster\n",
    "\n",
    "country_df['cluster_labels'].value_counts()\n"
   ]
  },
  {
   "cell_type": "markdown",
   "metadata": {},
   "source": [
    "#### Cluster segmentation does not look good."
   ]
  },
  {
   "cell_type": "code",
   "execution_count": 106,
   "metadata": {},
   "outputs": [
    {
     "data": {
      "text/plain": [
       "<matplotlib.axes._subplots.AxesSubplot at 0x27ff39b2248>"
      ]
     },
     "execution_count": 106,
     "metadata": {},
     "output_type": "execute_result"
    },
    {
     "data": {
      "image/png": "[encoded data removed]",
      "text/plain": [
       "<Figure size 1224x360 with 3 Axes>"
      ]
     },
     "metadata": {
      "needs_background": "light"
     },
     "output_type": "display_data"
    }
   ],
   "source": [
    "plt.figure(figsize=(17,5))\n",
    "\n",
    "# Visualising the clusters using income and gdpp\n",
    "plt.subplot(1,3,1)\n",
    "sns.scatterplot(x = 'income', y = 'gdpp', hue ='cluster_labels', legend = 'full', data = country_df, palette='Set1')\n",
    "\n",
    "# Visualising clusters using income and child_mort\n",
    "plt.subplot(1,3,2)\n",
    "sns.scatterplot(x = 'income', y = 'child_mort', hue ='cluster_labels', legend = 'full', data = country_df, palette='Set1')\n",
    "\n",
    "# Visualising clusters using gdpp and child_mort\n",
    "plt.subplot(1,3,3)\n",
    "sns.scatterplot(x = 'gdpp', y = 'child_mort', hue ='cluster_labels', legend = 'full', data = country_df, palette='Set1')"
   ]
  },
  {
   "cell_type": "code",
   "execution_count": 107,
   "metadata": {},
   "outputs": [
    {
     "data": {
      "text/plain": [
       "<matplotlib.axes._subplots.AxesSubplot at 0x27ff6a043c8>"
      ]
     },
     "execution_count": 107,
     "metadata": {},
     "output_type": "execute_result"
    },
    {
     "data": {
      "image/png": "[encoded data removed]",
      "text/plain": [
       "<Figure size 1296x360 with 3 Axes>"
      ]
     },
     "metadata": {
      "needs_background": "light"
     },
     "output_type": "display_data"
    }
   ],
   "source": [
    "plt.figure (figsize=(18,5))\n",
    "\n",
    "# Visualising clusters for income\n",
    "plt.subplot(1,3,1)\n",
    "sns.boxplot(x='cluster_labels', y='income', data=country_df)\n",
    "\n",
    "# Visualising clusters for gdpp\n",
    "plt.subplot(1,3,2)\n",
    "sns.boxplot(x='cluster_labels', y='gdpp', data=country_df)\n",
    "\n",
    "# Visualising clusters for child_mort\n",
    "plt.subplot(1,3,3)\n",
    "sns.boxplot(x='cluster_labels', y='child_mort', data=country_df)"
   ]
  },
  {
   "cell_type": "markdown",
   "metadata": {},
   "source": [
    "# Cluster Profiling - Hierarchical"
   ]
  },
  {
   "cell_type": "code",
   "execution_count": 108,
   "metadata": {},
   "outputs": [
    {
     "data": {
      "text/html": [
       "<div>\n",
       "<style scoped>\n",
       "    .dataframe tbody tr th:only-of-type {\n",
       "        vertical-align: middle;\n",
       "    }\n",
       "\n",
       "    .dataframe tbody tr th {\n",
       "        vertical-align: top;\n",
       "    }\n",
       "\n",
       "    .dataframe thead th {\n",
       "        text-align: right;\n",
       "    }\n",
       "</style>\n",
       "<table border=\"1\" class=\"dataframe\">\n",
       "  <thead>\n",
       "    <tr style=\"text-align: right;\">\n",
       "      <th></th>\n",
       "      <th>country</th>\n",
       "      <th>child_mort</th>\n",
       "      <th>exports</th>\n",
       "      <th>health</th>\n",
       "      <th>imports</th>\n",
       "      <th>income</th>\n",
       "      <th>inflation</th>\n",
       "      <th>life_expec</th>\n",
       "      <th>total_fer</th>\n",
       "      <th>gdpp</th>\n",
       "      <th>cluster_labels</th>\n",
       "    </tr>\n",
       "  </thead>\n",
       "  <tbody>\n",
       "    <tr>\n",
       "      <th>0</th>\n",
       "      <td>Afghanistan</td>\n",
       "      <td>90.2</td>\n",
       "      <td>55.30</td>\n",
       "      <td>41.9174</td>\n",
       "      <td>248.297</td>\n",
       "      <td>1610</td>\n",
       "      <td>9.44</td>\n",
       "      <td>56.2</td>\n",
       "      <td>5.82</td>\n",
       "      <td>553</td>\n",
       "      <td>0</td>\n",
       "    </tr>\n",
       "    <tr>\n",
       "      <th>1</th>\n",
       "      <td>Albania</td>\n",
       "      <td>16.6</td>\n",
       "      <td>1145.20</td>\n",
       "      <td>267.8950</td>\n",
       "      <td>1987.740</td>\n",
       "      <td>9930</td>\n",
       "      <td>4.49</td>\n",
       "      <td>76.3</td>\n",
       "      <td>1.65</td>\n",
       "      <td>4090</td>\n",
       "      <td>0</td>\n",
       "    </tr>\n",
       "    <tr>\n",
       "      <th>2</th>\n",
       "      <td>Algeria</td>\n",
       "      <td>27.3</td>\n",
       "      <td>1712.64</td>\n",
       "      <td>185.9820</td>\n",
       "      <td>1400.440</td>\n",
       "      <td>12900</td>\n",
       "      <td>16.10</td>\n",
       "      <td>76.5</td>\n",
       "      <td>2.89</td>\n",
       "      <td>4460</td>\n",
       "      <td>0</td>\n",
       "    </tr>\n",
       "    <tr>\n",
       "      <th>3</th>\n",
       "      <td>Angola</td>\n",
       "      <td>119.0</td>\n",
       "      <td>2199.19</td>\n",
       "      <td>100.6050</td>\n",
       "      <td>1514.370</td>\n",
       "      <td>5900</td>\n",
       "      <td>22.40</td>\n",
       "      <td>60.1</td>\n",
       "      <td>6.16</td>\n",
       "      <td>3530</td>\n",
       "      <td>0</td>\n",
       "    </tr>\n",
       "    <tr>\n",
       "      <th>4</th>\n",
       "      <td>Antigua and Barbuda</td>\n",
       "      <td>10.3</td>\n",
       "      <td>5551.00</td>\n",
       "      <td>735.6600</td>\n",
       "      <td>7185.800</td>\n",
       "      <td>19100</td>\n",
       "      <td>1.44</td>\n",
       "      <td>76.8</td>\n",
       "      <td>2.13</td>\n",
       "      <td>12200</td>\n",
       "      <td>0</td>\n",
       "    </tr>\n",
       "  </tbody>\n",
       "</table>\n",
       "</div>"
      ],
      "text/plain": [
       "               country  child_mort  exports    health   imports  income  \\\n",
       "0          Afghanistan        90.2    55.30   41.9174   248.297    1610   \n",
       "1              Albania        16.6  1145.20  267.8950  1987.740    9930   \n",
       "2              Algeria        27.3  1712.64  185.9820  1400.440   12900   \n",
       "3               Angola       119.0  2199.19  100.6050  1514.370    5900   \n",
       "4  Antigua and Barbuda        10.3  5551.00  735.6600  7185.800   19100   \n",
       "\n",
       "   inflation  life_expec  total_fer   gdpp  cluster_labels  \n",
       "0       9.44        56.2       5.82    553               0  \n",
       "1       4.49        76.3       1.65   4090               0  \n",
       "2      16.10        76.5       2.89   4460               0  \n",
       "3      22.40        60.1       6.16   3530               0  \n",
       "4       1.44        76.8       2.13  12200               0  "
      ]
     },
     "execution_count": 108,
     "metadata": {},
     "output_type": "execute_result"
    }
   ],
   "source": [
    "country_df.head()"
   ]
  },
  {
   "cell_type": "code",
   "execution_count": 109,
   "metadata": {},
   "outputs": [
    {
     "data": {
      "text/html": [
       "<div>\n",
       "<style scoped>\n",
       "    .dataframe tbody tr th:only-of-type {\n",
       "        vertical-align: middle;\n",
       "    }\n",
       "\n",
       "    .dataframe tbody tr th {\n",
       "        vertical-align: top;\n",
       "    }\n",
       "\n",
       "    .dataframe thead th {\n",
       "        text-align: right;\n",
       "    }\n",
       "</style>\n",
       "<table border=\"1\" class=\"dataframe\">\n",
       "  <thead>\n",
       "    <tr style=\"text-align: right;\">\n",
       "      <th></th>\n",
       "      <th>child_mort</th>\n",
       "      <th>exports</th>\n",
       "      <th>health</th>\n",
       "      <th>imports</th>\n",
       "      <th>income</th>\n",
       "      <th>inflation</th>\n",
       "      <th>life_expec</th>\n",
       "      <th>total_fer</th>\n",
       "      <th>gdpp</th>\n",
       "    </tr>\n",
       "    <tr>\n",
       "      <th>cluster_labels</th>\n",
       "      <th></th>\n",
       "      <th></th>\n",
       "      <th></th>\n",
       "      <th></th>\n",
       "      <th></th>\n",
       "      <th></th>\n",
       "      <th></th>\n",
       "      <th></th>\n",
       "      <th></th>\n",
       "    </tr>\n",
       "  </thead>\n",
       "  <tbody>\n",
       "    <tr>\n",
       "      <th>0</th>\n",
       "      <td>48.12320</td>\n",
       "      <td>1857.956220</td>\n",
       "      <td>283.153529</td>\n",
       "      <td>2010.219057</td>\n",
       "      <td>8396.104000</td>\n",
       "      <td>8.364192</td>\n",
       "      <td>67.696800</td>\n",
       "      <td>3.288720</td>\n",
       "      <td>4360.912000</td>\n",
       "    </tr>\n",
       "    <tr>\n",
       "      <th>1</th>\n",
       "      <td>6.15641</td>\n",
       "      <td>18704.085385</td>\n",
       "      <td>3357.904179</td>\n",
       "      <td>15856.102564</td>\n",
       "      <td>42171.794872</td>\n",
       "      <td>3.755590</td>\n",
       "      <td>79.389744</td>\n",
       "      <td>1.861538</td>\n",
       "      <td>37588.974359</td>\n",
       "    </tr>\n",
       "    <tr>\n",
       "      <th>2</th>\n",
       "      <td>130.00000</td>\n",
       "      <td>589.490000</td>\n",
       "      <td>118.131000</td>\n",
       "      <td>405.420000</td>\n",
       "      <td>5150.000000</td>\n",
       "      <td>104.000000</td>\n",
       "      <td>60.500000</td>\n",
       "      <td>5.840000</td>\n",
       "      <td>2330.000000</td>\n",
       "    </tr>\n",
       "    <tr>\n",
       "      <th>3</th>\n",
       "      <td>2.80000</td>\n",
       "      <td>93200.000000</td>\n",
       "      <td>1845.360000</td>\n",
       "      <td>81084.000000</td>\n",
       "      <td>72100.000000</td>\n",
       "      <td>-0.046000</td>\n",
       "      <td>82.700000</td>\n",
       "      <td>1.150000</td>\n",
       "      <td>46600.000000</td>\n",
       "    </tr>\n",
       "  </tbody>\n",
       "</table>\n",
       "</div>"
      ],
      "text/plain": [
       "                child_mort       exports       health       imports  \\\n",
       "cluster_labels                                                        \n",
       "0                 48.12320   1857.956220   283.153529   2010.219057   \n",
       "1                  6.15641  18704.085385  3357.904179  15856.102564   \n",
       "2                130.00000    589.490000   118.131000    405.420000   \n",
       "3                  2.80000  93200.000000  1845.360000  81084.000000   \n",
       "\n",
       "                      income   inflation  life_expec  total_fer          gdpp  \n",
       "cluster_labels                                                                 \n",
       "0                8396.104000    8.364192   67.696800   3.288720   4360.912000  \n",
       "1               42171.794872    3.755590   79.389744   1.861538  37588.974359  \n",
       "2                5150.000000  104.000000   60.500000   5.840000   2330.000000  \n",
       "3               72100.000000   -0.046000   82.700000   1.150000  46600.000000  "
      ]
     },
     "execution_count": 109,
     "metadata": {},
     "output_type": "execute_result"
    }
   ],
   "source": [
    "# Calculating the mean values for all metrics\n",
    "\n",
    "country_df.drop('country', axis = 1).groupby('cluster_labels').mean()"
   ]
  },
  {
   "cell_type": "code",
   "execution_count": 110,
   "metadata": {},
   "outputs": [
    {
     "data": {
      "text/plain": [
       "<matplotlib.axes._subplots.AxesSubplot at 0x27ff6df64c8>"
      ]
     },
     "execution_count": 110,
     "metadata": {},
     "output_type": "execute_result"
    },
    {
     "data": {
      "image/png": "[encoded data removed]",
      "text/plain": [
       "<Figure size 432x288 with 1 Axes>"
      ]
     },
     "metadata": {
      "needs_background": "light"
     },
     "output_type": "display_data"
    }
   ],
   "source": [
    "country_df.drop('country', axis = 1).groupby('cluster_labels').mean().plot(kind = 'bar')"
   ]
  },
  {
   "cell_type": "code",
   "execution_count": 111,
   "metadata": {},
   "outputs": [
    {
     "data": {
      "text/plain": [
       "<matplotlib.axes._subplots.AxesSubplot at 0x27ff6cbd888>"
      ]
     },
     "execution_count": 111,
     "metadata": {},
     "output_type": "execute_result"
    },
    {
     "data": {
      "image/png": "[encoded data removed]",
      "text/plain": [
       "<Figure size 432x288 with 1 Axes>"
      ]
     },
     "metadata": {
      "needs_background": "light"
     },
     "output_type": "display_data"
    }
   ],
   "source": [
    "# Bar graph for income, gdpp and child mortality\n",
    "\n",
    "country_df.drop('country', axis = 1)[['income','gdpp','child_mort','cluster_labels']].groupby('cluster_labels').mean().plot(kind = 'bar')"
   ]
  },
  {
   "cell_type": "code",
   "execution_count": 112,
   "metadata": {},
   "outputs": [
    {
     "data": {
      "text/plain": [
       "0              Afghanistan\n",
       "1                  Albania\n",
       "2                  Algeria\n",
       "3                   Angola\n",
       "4      Antigua and Barbuda\n",
       "              ...         \n",
       "162                Vanuatu\n",
       "163              Venezuela\n",
       "164                Vietnam\n",
       "165                  Yemen\n",
       "166                 Zambia\n",
       "Name: country, Length: 125, dtype: object"
      ]
     },
     "execution_count": 112,
     "metadata": {},
     "output_type": "execute_result"
    }
   ],
   "source": [
    "country_df[country_df['cluster_labels']==0]['country']"
   ]
  },
  {
   "cell_type": "code",
   "execution_count": 113,
   "metadata": {},
   "outputs": [
    {
     "data": {
      "text/html": [
       "<div>\n",
       "<style scoped>\n",
       "    .dataframe tbody tr th:only-of-type {\n",
       "        vertical-align: middle;\n",
       "    }\n",
       "\n",
       "    .dataframe tbody tr th {\n",
       "        vertical-align: top;\n",
       "    }\n",
       "\n",
       "    .dataframe thead th {\n",
       "        text-align: right;\n",
       "    }\n",
       "</style>\n",
       "<table border=\"1\" class=\"dataframe\">\n",
       "  <thead>\n",
       "    <tr style=\"text-align: right;\">\n",
       "      <th></th>\n",
       "      <th>country</th>\n",
       "      <th>child_mort</th>\n",
       "      <th>exports</th>\n",
       "      <th>health</th>\n",
       "      <th>imports</th>\n",
       "      <th>income</th>\n",
       "      <th>inflation</th>\n",
       "      <th>life_expec</th>\n",
       "      <th>total_fer</th>\n",
       "      <th>gdpp</th>\n",
       "      <th>cluster_labels</th>\n",
       "    </tr>\n",
       "  </thead>\n",
       "  <tbody>\n",
       "    <tr>\n",
       "      <th>37</th>\n",
       "      <td>Congo, Dem. Rep.</td>\n",
       "      <td>116.0</td>\n",
       "      <td>137.2740</td>\n",
       "      <td>26.4194</td>\n",
       "      <td>165.664</td>\n",
       "      <td>609</td>\n",
       "      <td>20.80</td>\n",
       "      <td>57.5</td>\n",
       "      <td>6.54</td>\n",
       "      <td>334</td>\n",
       "      <td>0</td>\n",
       "    </tr>\n",
       "    <tr>\n",
       "      <th>88</th>\n",
       "      <td>Liberia</td>\n",
       "      <td>89.3</td>\n",
       "      <td>62.4570</td>\n",
       "      <td>38.5860</td>\n",
       "      <td>302.802</td>\n",
       "      <td>700</td>\n",
       "      <td>5.47</td>\n",
       "      <td>60.8</td>\n",
       "      <td>5.02</td>\n",
       "      <td>327</td>\n",
       "      <td>0</td>\n",
       "    </tr>\n",
       "    <tr>\n",
       "      <th>26</th>\n",
       "      <td>Burundi</td>\n",
       "      <td>93.6</td>\n",
       "      <td>20.6052</td>\n",
       "      <td>26.7960</td>\n",
       "      <td>90.552</td>\n",
       "      <td>764</td>\n",
       "      <td>12.30</td>\n",
       "      <td>57.7</td>\n",
       "      <td>6.26</td>\n",
       "      <td>231</td>\n",
       "      <td>0</td>\n",
       "    </tr>\n",
       "    <tr>\n",
       "      <th>112</th>\n",
       "      <td>Niger</td>\n",
       "      <td>123.0</td>\n",
       "      <td>77.2560</td>\n",
       "      <td>17.9568</td>\n",
       "      <td>170.868</td>\n",
       "      <td>814</td>\n",
       "      <td>2.55</td>\n",
       "      <td>58.8</td>\n",
       "      <td>7.49</td>\n",
       "      <td>348</td>\n",
       "      <td>0</td>\n",
       "    </tr>\n",
       "    <tr>\n",
       "      <th>31</th>\n",
       "      <td>Central African Republic</td>\n",
       "      <td>149.0</td>\n",
       "      <td>52.6280</td>\n",
       "      <td>17.7508</td>\n",
       "      <td>118.190</td>\n",
       "      <td>888</td>\n",
       "      <td>2.01</td>\n",
       "      <td>47.5</td>\n",
       "      <td>5.21</td>\n",
       "      <td>446</td>\n",
       "      <td>0</td>\n",
       "    </tr>\n",
       "    <tr>\n",
       "      <th>...</th>\n",
       "      <td>...</td>\n",
       "      <td>...</td>\n",
       "      <td>...</td>\n",
       "      <td>...</td>\n",
       "      <td>...</td>\n",
       "      <td>...</td>\n",
       "      <td>...</td>\n",
       "      <td>...</td>\n",
       "      <td>...</td>\n",
       "      <td>...</td>\n",
       "      <td>...</td>\n",
       "    </tr>\n",
       "    <tr>\n",
       "      <th>121</th>\n",
       "      <td>Poland</td>\n",
       "      <td>6.0</td>\n",
       "      <td>5052.6000</td>\n",
       "      <td>939.9600</td>\n",
       "      <td>5304.600</td>\n",
       "      <td>21800</td>\n",
       "      <td>1.66</td>\n",
       "      <td>76.3</td>\n",
       "      <td>1.41</td>\n",
       "      <td>12600</td>\n",
       "      <td>0</td>\n",
       "    </tr>\n",
       "    <tr>\n",
       "      <th>67</th>\n",
       "      <td>Hungary</td>\n",
       "      <td>6.0</td>\n",
       "      <td>10715.8000</td>\n",
       "      <td>960.2300</td>\n",
       "      <td>10021.500</td>\n",
       "      <td>22300</td>\n",
       "      <td>2.33</td>\n",
       "      <td>74.5</td>\n",
       "      <td>1.25</td>\n",
       "      <td>13100</td>\n",
       "      <td>0</td>\n",
       "    </tr>\n",
       "    <tr>\n",
       "      <th>51</th>\n",
       "      <td>Estonia</td>\n",
       "      <td>4.5</td>\n",
       "      <td>10964.6000</td>\n",
       "      <td>880.3800</td>\n",
       "      <td>10030.200</td>\n",
       "      <td>22700</td>\n",
       "      <td>1.74</td>\n",
       "      <td>76.0</td>\n",
       "      <td>1.72</td>\n",
       "      <td>14600</td>\n",
       "      <td>0</td>\n",
       "    </tr>\n",
       "    <tr>\n",
       "      <th>125</th>\n",
       "      <td>Russia</td>\n",
       "      <td>10.0</td>\n",
       "      <td>3124.4000</td>\n",
       "      <td>543.5600</td>\n",
       "      <td>2257.700</td>\n",
       "      <td>23100</td>\n",
       "      <td>14.20</td>\n",
       "      <td>69.2</td>\n",
       "      <td>1.57</td>\n",
       "      <td>10700</td>\n",
       "      <td>0</td>\n",
       "    </tr>\n",
       "    <tr>\n",
       "      <th>49</th>\n",
       "      <td>Equatorial Guinea</td>\n",
       "      <td>111.0</td>\n",
       "      <td>14671.8000</td>\n",
       "      <td>766.0800</td>\n",
       "      <td>10071.900</td>\n",
       "      <td>33700</td>\n",
       "      <td>24.90</td>\n",
       "      <td>60.9</td>\n",
       "      <td>5.21</td>\n",
       "      <td>17100</td>\n",
       "      <td>0</td>\n",
       "    </tr>\n",
       "  </tbody>\n",
       "</table>\n",
       "<p>125 rows × 11 columns</p>\n",
       "</div>"
      ],
      "text/plain": [
       "                      country  child_mort     exports    health    imports  \\\n",
       "37           Congo, Dem. Rep.       116.0    137.2740   26.4194    165.664   \n",
       "88                    Liberia        89.3     62.4570   38.5860    302.802   \n",
       "26                    Burundi        93.6     20.6052   26.7960     90.552   \n",
       "112                     Niger       123.0     77.2560   17.9568    170.868   \n",
       "31   Central African Republic       149.0     52.6280   17.7508    118.190   \n",
       "..                        ...         ...         ...       ...        ...   \n",
       "121                    Poland         6.0   5052.6000  939.9600   5304.600   \n",
       "67                    Hungary         6.0  10715.8000  960.2300  10021.500   \n",
       "51                    Estonia         4.5  10964.6000  880.3800  10030.200   \n",
       "125                    Russia        10.0   3124.4000  543.5600   2257.700   \n",
       "49          Equatorial Guinea       111.0  14671.8000  766.0800  10071.900   \n",
       "\n",
       "     income  inflation  life_expec  total_fer   gdpp  cluster_labels  \n",
       "37      609      20.80        57.5       6.54    334               0  \n",
       "88      700       5.47        60.8       5.02    327               0  \n",
       "26      764      12.30        57.7       6.26    231               0  \n",
       "112     814       2.55        58.8       7.49    348               0  \n",
       "31      888       2.01        47.5       5.21    446               0  \n",
       "..      ...        ...         ...        ...    ...             ...  \n",
       "121   21800       1.66        76.3       1.41  12600               0  \n",
       "67    22300       2.33        74.5       1.25  13100               0  \n",
       "51    22700       1.74        76.0       1.72  14600               0  \n",
       "125   23100      14.20        69.2       1.57  10700               0  \n",
       "49    33700      24.90        60.9       5.21  17100               0  \n",
       "\n",
       "[125 rows x 11 columns]"
      ]
     },
     "execution_count": 113,
     "metadata": {},
     "output_type": "execute_result"
    }
   ],
   "source": [
    "# Sorting data on the basis of low income and gdpp, and high child mortality\n",
    "\n",
    "country_df[country_df['cluster_labels']==0].sort_values(by=[\"income\", 'gdpp','child_mort'], ascending=[True, True, False]) "
   ]
  },
  {
   "cell_type": "markdown",
   "metadata": {},
   "source": [
    "# Final Analysis"
   ]
  },
  {
   "cell_type": "markdown",
   "metadata": {},
   "source": [
    "#### Since Clusters formed using Heirarchical Clustering are not suitable, its better to proceed forward with KMeans Clusters to identify which countries should be looked at for aid by the NGO."
   ]
  },
  {
   "cell_type": "code",
   "execution_count": 114,
   "metadata": {},
   "outputs": [
    {
     "data": {
      "text/html": [
       "<div>\n",
       "<style scoped>\n",
       "    .dataframe tbody tr th:only-of-type {\n",
       "        vertical-align: middle;\n",
       "    }\n",
       "\n",
       "    .dataframe tbody tr th {\n",
       "        vertical-align: top;\n",
       "    }\n",
       "\n",
       "    .dataframe thead th {\n",
       "        text-align: right;\n",
       "    }\n",
       "</style>\n",
       "<table border=\"1\" class=\"dataframe\">\n",
       "  <thead>\n",
       "    <tr style=\"text-align: right;\">\n",
       "      <th></th>\n",
       "      <th>child_mort</th>\n",
       "      <th>exports</th>\n",
       "      <th>health</th>\n",
       "      <th>imports</th>\n",
       "      <th>income</th>\n",
       "      <th>inflation</th>\n",
       "      <th>life_expec</th>\n",
       "      <th>total_fer</th>\n",
       "      <th>gdpp</th>\n",
       "      <th>cluster_id</th>\n",
       "    </tr>\n",
       "  </thead>\n",
       "  <tbody>\n",
       "    <tr>\n",
       "      <th>count</th>\n",
       "      <td>48.000000</td>\n",
       "      <td>48.000000</td>\n",
       "      <td>48.000000</td>\n",
       "      <td>48.000000</td>\n",
       "      <td>48.000000</td>\n",
       "      <td>48.000000</td>\n",
       "      <td>48.000000</td>\n",
       "      <td>48.000000</td>\n",
       "      <td>48.000000</td>\n",
       "      <td>48.0</td>\n",
       "    </tr>\n",
       "    <tr>\n",
       "      <th>mean</th>\n",
       "      <td>91.610417</td>\n",
       "      <td>879.063521</td>\n",
       "      <td>114.821765</td>\n",
       "      <td>827.028771</td>\n",
       "      <td>3897.354167</td>\n",
       "      <td>11.911146</td>\n",
       "      <td>59.239583</td>\n",
       "      <td>4.992083</td>\n",
       "      <td>1909.208333</td>\n",
       "      <td>1.0</td>\n",
       "    </tr>\n",
       "    <tr>\n",
       "      <th>std</th>\n",
       "      <td>34.319855</td>\n",
       "      <td>2252.474004</td>\n",
       "      <td>165.518331</td>\n",
       "      <td>1540.981910</td>\n",
       "      <td>5590.168621</td>\n",
       "      <td>15.362485</td>\n",
       "      <td>6.384914</td>\n",
       "      <td>1.036192</td>\n",
       "      <td>2925.911009</td>\n",
       "      <td>0.0</td>\n",
       "    </tr>\n",
       "    <tr>\n",
       "      <th>min</th>\n",
       "      <td>28.100000</td>\n",
       "      <td>20.605200</td>\n",
       "      <td>12.821200</td>\n",
       "      <td>90.552000</td>\n",
       "      <td>609.000000</td>\n",
       "      <td>0.885000</td>\n",
       "      <td>32.100000</td>\n",
       "      <td>2.590000</td>\n",
       "      <td>231.000000</td>\n",
       "      <td>1.0</td>\n",
       "    </tr>\n",
       "    <tr>\n",
       "      <th>25%</th>\n",
       "      <td>63.675000</td>\n",
       "      <td>102.873750</td>\n",
       "      <td>34.005875</td>\n",
       "      <td>193.319500</td>\n",
       "      <td>1390.000000</td>\n",
       "      <td>4.080000</td>\n",
       "      <td>56.725000</td>\n",
       "      <td>4.475000</td>\n",
       "      <td>551.500000</td>\n",
       "      <td>1.0</td>\n",
       "    </tr>\n",
       "    <tr>\n",
       "      <th>50%</th>\n",
       "      <td>89.750000</td>\n",
       "      <td>196.260000</td>\n",
       "      <td>51.613500</td>\n",
       "      <td>339.306000</td>\n",
       "      <td>1860.000000</td>\n",
       "      <td>8.855000</td>\n",
       "      <td>59.800000</td>\n",
       "      <td>5.055000</td>\n",
       "      <td>932.000000</td>\n",
       "      <td>1.0</td>\n",
       "    </tr>\n",
       "    <tr>\n",
       "      <th>75%</th>\n",
       "      <td>111.000000</td>\n",
       "      <td>552.522500</td>\n",
       "      <td>95.303250</td>\n",
       "      <td>801.000000</td>\n",
       "      <td>3522.500000</td>\n",
       "      <td>16.600000</td>\n",
       "      <td>62.825000</td>\n",
       "      <td>5.597500</td>\n",
       "      <td>1465.000000</td>\n",
       "      <td>1.0</td>\n",
       "    </tr>\n",
       "    <tr>\n",
       "      <th>max</th>\n",
       "      <td>208.000000</td>\n",
       "      <td>14671.800000</td>\n",
       "      <td>766.080000</td>\n",
       "      <td>10071.900000</td>\n",
       "      <td>33700.000000</td>\n",
       "      <td>104.000000</td>\n",
       "      <td>71.100000</td>\n",
       "      <td>7.490000</td>\n",
       "      <td>17100.000000</td>\n",
       "      <td>1.0</td>\n",
       "    </tr>\n",
       "  </tbody>\n",
       "</table>\n",
       "</div>"
      ],
      "text/plain": [
       "       child_mort       exports      health       imports        income  \\\n",
       "count   48.000000     48.000000   48.000000     48.000000     48.000000   \n",
       "mean    91.610417    879.063521  114.821765    827.028771   3897.354167   \n",
       "std     34.319855   2252.474004  165.518331   1540.981910   5590.168621   \n",
       "min     28.100000     20.605200   12.821200     90.552000    609.000000   \n",
       "25%     63.675000    102.873750   34.005875    193.319500   1390.000000   \n",
       "50%     89.750000    196.260000   51.613500    339.306000   1860.000000   \n",
       "75%    111.000000    552.522500   95.303250    801.000000   3522.500000   \n",
       "max    208.000000  14671.800000  766.080000  10071.900000  33700.000000   \n",
       "\n",
       "        inflation  life_expec  total_fer          gdpp  cluster_id  \n",
       "count   48.000000   48.000000  48.000000     48.000000        48.0  \n",
       "mean    11.911146   59.239583   4.992083   1909.208333         1.0  \n",
       "std     15.362485    6.384914   1.036192   2925.911009         0.0  \n",
       "min      0.885000   32.100000   2.590000    231.000000         1.0  \n",
       "25%      4.080000   56.725000   4.475000    551.500000         1.0  \n",
       "50%      8.855000   59.800000   5.055000    932.000000         1.0  \n",
       "75%     16.600000   62.825000   5.597500   1465.000000         1.0  \n",
       "max    104.000000   71.100000   7.490000  17100.000000         1.0  "
      ]
     },
     "execution_count": 114,
     "metadata": {},
     "output_type": "execute_result"
    }
   ],
   "source": [
    "kmeans_final_cluster.describe()"
   ]
  },
  {
   "cell_type": "markdown",
   "metadata": {},
   "source": [
    "#### child_mort mean value is 91.61\n",
    "#### income mean value is 3897.35\n",
    "#### gdpp mean value is 1909.21"
   ]
  },
  {
   "cell_type": "code",
   "execution_count": 115,
   "metadata": {},
   "outputs": [
    {
     "data": {
      "text/plain": [
       "66                        Haiti\n",
       "132                Sierra Leone\n",
       "32                         Chad\n",
       "31     Central African Republic\n",
       "97                         Mali\n",
       "112                       Niger\n",
       "37             Congo, Dem. Rep.\n",
       "25                 Burkina Faso\n",
       "64                Guinea-Bissau\n",
       "17                        Benin\n",
       "Name: country, dtype: object"
      ]
     },
     "execution_count": 115,
     "metadata": {},
     "output_type": "execute_result"
    }
   ],
   "source": [
    "# Filtering the final countries which have child mortality rate higher than the mean, income and gdpp lower than the mean values\n",
    "\n",
    "kmeans_final_cluster[(kmeans_final_cluster.child_mort>91.61) & (kmeans_final_cluster.income<3897.35) & (kmeans_final_cluster.gdpp<1909.21)].country.head(10)"
   ]
  },
  {
   "cell_type": "markdown",
   "metadata": {},
   "source": [
    "# Final Recommendation"
   ]
  },
  {
   "cell_type": "markdown",
   "metadata": {},
   "source": [
    "<b> The countries that are most in need of help from the NGO:\n",
    "   - Haiti\n",
    "   - Sierra Leon\n",
    "   - Chad\n",
    "   - Central African Republic\n",
    "   - Mali\n",
    "   - Niger\n",
    "   - Congo, Dem. Rep.\n",
    "   - Burkina Faso\n",
    "   - Guinea-Bissau\n",
    "   - Benin\n",
    "</b>   "
   ]
  }
 ],
 "metadata": {
  "kernelspec": {
   "display_name": "Python 3",
   "language": "python",
   "name": "python3"
  },
  "language_info": {
   "codemirror_mode": {
    "name": "ipython",
    "version": 3
   },
   "file_extension": ".py",
   "mimetype": "text/x-python",
   "name": "python",
   "nbconvert_exporter": "python",
   "pygments_lexer": "ipython3",
   "version": "3.7.6"
  }
 },
 "nbformat": 4,
 "nbformat_minor": 2
}
